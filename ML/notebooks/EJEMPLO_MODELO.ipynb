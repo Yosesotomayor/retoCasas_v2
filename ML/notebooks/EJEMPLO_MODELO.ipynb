{
 "cells": [
  {
   "cell_type": "markdown",
   "id": "0b56559a",
   "metadata": {},
   "source": [
    "---"
   ]
  },
  {
   "cell_type": "code",
   "execution_count": 1,
   "id": "6cbbf585",
   "metadata": {},
   "outputs": [],
   "source": [
    "import sys\n",
    "sys.path.append(\"../../../../\")\n",
    "from ML.utils.mlflow_flow import set_tracking, quick_log_and_register\n",
    "\n",
    "from ML.utils.utils_yose import load_data, make_features, build_preprocessor\n",
    "\n",
    "from sklearn.pipeline import Pipeline\n",
    "from sklearn.base import clone\n",
    "\n",
    "import numpy as np\n",
    "\n",
    "from warnings import filterwarnings\n",
    "\n",
    "filterwarnings(\"ignore\")\n",
    "set_tracking(\"http://127.0.0.1:5000\")"
   ]
  },
  {
   "cell_type": "markdown",
   "id": "b24eb602",
   "metadata": {},
   "source": [
    "---"
   ]
  },
  {
   "cell_type": "code",
   "execution_count": 2,
   "id": "53c1d807",
   "metadata": {},
   "outputs": [],
   "source": [
    "df_train, df_test = load_data()\n",
    "X = df_train.drop([\"Id\",\"SalePrice\"], axis=1)\n",
    "y = np.log1p(df_train[\"SalePrice\"])\n",
    "X_test = df_test.drop(\"Id\", axis=1)\n",
    "X = make_features(X)\n",
    "X_test = make_features(X_test)\n",
    "pre = build_preprocessor(X)"
   ]
  },
  {
   "cell_type": "code",
   "execution_count": 3,
   "id": "5a5f539e",
   "metadata": {},
   "outputs": [],
   "source": [
    "from sklearn.ensemble import RandomForestRegressor\n",
    "\n",
    "model = Pipeline([\n",
    "    (\"preprocessor\", clone(pre)),\n",
    "    (\"model\", RandomForestRegressor())\n",
    "])\n",
    "\n",
    "model.fit(X, y)\n",
    "\n",
    "y_pred = model.predict(X_test)"
   ]
  },
  {
   "cell_type": "code",
   "execution_count": 4,
   "id": "966df01d",
   "metadata": {},
   "outputs": [
    {
     "name": "stdout",
     "output_type": "stream",
     "text": [
      "Subiendo modelo...\n",
      "Modelo subido.\n",
      "URI: runs:/927667fbdc2845ff98d4515eb618ec42/model | version: 1\n"
     ]
    }
   ],
   "source": [
    "params = getattr(model, \"steps\")[1][1].get_params()\n",
    "\n",
    "try:\n",
    "    MODEL_URI, VERSION = quick_log_and_register(\n",
    "        experiment=\"HousePrices-Competition\",\n",
    "        run_name=\"RandomForest!\",\n",
    "        model=model,\n",
    "        X=X, y=y, X_test=X_test,\n",
    "        params=params,\n",
    "        metrics = {\"r2\": model.score(X, y), \"rmse\": np.sqrt(model.score(X, y))},\n",
    "        model_name=\"HousePrices_RandomForest\",\n",
    "        tags={\"task\":\"regression\", \"dataset\":\"Kaggle-HousePrices\"}\n",
    "    )\n",
    "\n",
    "    print(\"URI:\", MODEL_URI, \"| version:\", VERSION)\n",
    "\n",
    "except Exception as e:\n",
    "    print(\"Error:\", e)"
   ]
  },
  {
   "cell_type": "markdown",
   "id": "ff87af87",
   "metadata": {},
   "source": [
    "---"
   ]
  },
  {
   "cell_type": "markdown",
   "id": "3eabd3fc",
   "metadata": {},
   "source": [
    "---"
   ]
  },
  {
   "cell_type": "markdown",
   "id": "c3396e98",
   "metadata": {},
   "source": [
    "---"
   ]
  },
  {
   "cell_type": "markdown",
   "id": "7648a7f0",
   "metadata": {},
   "source": [
    "---"
   ]
  }
 ],
 "metadata": {
  "kernelspec": {
   "display_name": "Reto_housing",
   "language": "python",
   "name": "python3"
  },
  "language_info": {
   "codemirror_mode": {
    "name": "ipython",
    "version": 3
   },
   "file_extension": ".py",
   "mimetype": "text/x-python",
   "name": "python",
   "nbconvert_exporter": "python",
   "pygments_lexer": "ipython3",
   "version": "3.12.11"
  }
 },
 "nbformat": 4,
 "nbformat_minor": 5
}
