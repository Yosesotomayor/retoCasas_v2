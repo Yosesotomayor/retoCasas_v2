{
 "cells": [
  {
   "cell_type": "markdown",
   "id": "dfc7a1cb",
   "metadata": {},
   "source": [
    "---"
   ]
  },
  {
   "cell_type": "code",
   "execution_count": null,
   "id": "28282c3d",
   "metadata": {},
   "outputs": [],
   "source": [
    "import mlflow\n",
    "import sys\n",
    "sys.path.append(\"../../\")\n",
    "from ML.utils.mlflow_flow import set_tracking\n"
   ]
  },
  {
   "cell_type": "markdown",
   "id": "67b528a5",
   "metadata": {},
   "source": [
    "---"
   ]
  },
  {
   "cell_type": "code",
   "execution_count": null,
   "id": "205ffc64",
   "metadata": {},
   "outputs": [
    {
     "name": "stderr",
     "output_type": "stream",
     "text": [
      "Downloading artifacts: 100%|██████████| 7/7 [00:01<00:00,  4.22it/s]\n"
     ]
    }
   ],
   "source": [
    "sys.path.append(\"../models/ensemble_elnet_lgbm\")\n",
    "\n",
    "MODEL_NAME = 'elnet_lgbm'\n",
    "set_tracking(\"https://dagshub.com/Yosesotomayor/retoCasas_v2.mlflow\")\n",
    "\n",
    "model_r = mlflow.pyfunc.load_model(f\"models:/{MODEL_NAME}@champion\")\n"
   ]
  },
  {
   "cell_type": "markdown",
   "id": "3d806af3",
   "metadata": {},
   "source": [
    "---"
   ]
  }
 ],
 "metadata": {
  "kernelspec": {
   "display_name": "Reto_housing",
   "language": "python",
   "name": "python3"
  },
  "language_info": {
   "codemirror_mode": {
    "name": "ipython",
    "version": 3
   },
   "file_extension": ".py",
   "mimetype": "text/x-python",
   "name": "python",
   "nbconvert_exporter": "python",
   "pygments_lexer": "ipython3",
   "version": "3.12.11"
  }
 },
 "nbformat": 4,
 "nbformat_minor": 5
}
