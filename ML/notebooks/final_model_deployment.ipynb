{
 "cells": [
  {
   "cell_type": "markdown",
   "id": "dfc7a1cb",
   "metadata": {},
   "source": [
    "---"
   ]
  },
  {
   "cell_type": "markdown",
   "id": "3adf4c6e",
   "metadata": {},
   "source": [
    "# Model deployment"
   ]
  },
  {
   "cell_type": "markdown",
   "id": "0b52fa39",
   "metadata": {},
   "source": [
    "## Importar librerias"
   ]
  },
  {
   "cell_type": "code",
   "execution_count": 73,
   "id": "28282c3d",
   "metadata": {},
   "outputs": [],
   "source": [
    "import mlflow\n",
    "import sys\n",
    "import os\n",
    "\n",
    "import numpy as np\n",
    "import pandas as pd\n",
    "from mlflow.tracking import MlflowClient\n",
    "\n",
    "sys.path.append(\"../../\")\n",
    "from ML.utils.mlflow_flow import set_tracking\n",
    "from ML.utils.utils_yose import load_data, make_features\n",
    "from dotenv import load_dotenv\n",
    "\n",
    "load_dotenv()\n",
    "ENDPOINT_URL = os.getenv(\"ENDPOINT_URL\")\n",
    "DAGSHUB_PUBLIC_ACCESS_KEY = os.getenv(\"MLFLOW_TRACKING_TOKEN\")\n",
    "MODEL_NAME = os.getenv(\"MODEL_NAME\")\n",
    "ALIAS = os.getenv(\"MODEL_ALIAS\")\n",
    "\n",
    "os.environ[\"MLFLOW_TRACKING_URI\"] = \"https://dagshub.com/yosesotomayor/retoCasas_v2.mlflow\"\n",
    "os.environ[\"MLFLOW_REGISTRY_URI\"] = \"https://dagshub.com/yosesotomayor/retoCasas_v2.mlflow\"\n",
    "\n"
   ]
  },
  {
   "cell_type": "markdown",
   "id": "67b528a5",
   "metadata": {},
   "source": [
    "---"
   ]
  },
  {
   "cell_type": "code",
   "execution_count": 80,
   "id": "f6f35bd4",
   "metadata": {},
   "outputs": [
    {
     "name": "stdout",
     "output_type": "stream",
     "text": [
      "\n",
      "=== Model Registry ===\n",
      "OK, models: ['elnet_lgbm', 'neural_network_ymsc']\n"
     ]
    },
    {
     "name": "stderr",
     "output_type": "stream",
     "text": [
      "Downloading artifacts: 100%|██████████| 7/7 [00:01<00:00,  4.42it/s]"
     ]
    },
    {
     "name": "stdout",
     "output_type": "stream",
     "text": [
      "\n",
      "Carga del modelo:/ --> OK\n"
     ]
    },
    {
     "name": "stderr",
     "output_type": "stream",
     "text": [
      "\n"
     ]
    }
   ],
   "source": [
    "set_tracking(ENDPOINT_URL)\n",
    "client = MlflowClient()\n",
    "print(\"\\n=== Model Registry ===\")\n",
    "try:\n",
    "    rms = client.search_registered_models(max_results=5)\n",
    "    print(\"OK, models:\", [m.name for m in rms])\n",
    "except Exception as e:\n",
    "    print(\"Registry falla:\", type(e).__name__, str(e)[:200])\n",
    "\n",
    "try:\n",
    "    m = mlflow.pyfunc.load_model(\"runs:/c5d7f7da87664b67ad1595f33557c4cc/model\")\n",
    "    #m = mlflow.pyfunc.load_model(f\"models:/{MODEL_NAME}@challenger\")\n",
    "    print(\"\\nCarga del modelo:/ --> OK\")\n",
    "except Exception as e:\n",
    "    print(\"\\nCarga del modelo:/ falla:\", type(e).__name__, str(e)[:200])"
   ]
  },
  {
   "cell_type": "markdown",
   "id": "3d806af3",
   "metadata": {},
   "source": [
    "---"
   ]
  },
  {
   "cell_type": "code",
   "execution_count": 81,
   "id": "500ae8a9",
   "metadata": {},
   "outputs": [],
   "source": [
    "sub_dir = \"../../data/housing_data/\"\n",
    "_, df_test = load_data(sub_dir)\n",
    "\n",
    "X_test = make_features(df_test.drop([\"Id\"], axis=1))\n",
    "\n",
    "preds_orig = np.expm1(m.predict(X_test)) \n",
    "sub_dir = \"../../data/housing_data_submissions/elnet_lgbm/\"\n",
    "os.makedirs(sub_dir, exist_ok=True)\n",
    "submission_path = os.path.join(sub_dir, \"submission_elnet_lgbm-kaggle.csv\")\n",
    "\n",
    "df_sub = pd.DataFrame({\"Id\": df_test[\"Id\"], \"SalePrice\": preds_orig})\n",
    "df_sub.to_csv(submission_path, index=False)"
   ]
  }
 ],
 "metadata": {
  "kernelspec": {
   "display_name": "Reto_housing",
   "language": "python",
   "name": "python3"
  },
  "language_info": {
   "codemirror_mode": {
    "name": "ipython",
    "version": 3
   },
   "file_extension": ".py",
   "mimetype": "text/x-python",
   "name": "python",
   "nbconvert_exporter": "python",
   "pygments_lexer": "ipython3",
   "version": "3.12.11"
  }
 },
 "nbformat": 4,
 "nbformat_minor": 5
}
