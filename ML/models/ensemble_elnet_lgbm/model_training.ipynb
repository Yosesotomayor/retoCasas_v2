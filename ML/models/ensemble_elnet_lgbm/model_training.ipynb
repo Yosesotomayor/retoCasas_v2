{
 "cells": [
  {
   "cell_type": "markdown",
   "id": "66466786",
   "metadata": {},
   "source": [
    "---"
   ]
  },
  {
   "cell_type": "code",
   "execution_count": 1,
   "id": "c6756543",
   "metadata": {},
   "outputs": [
    {
     "data": {
      "text/html": [
       "<pre style=\"white-space:pre;overflow-x:auto;line-height:normal;font-family:Menlo,'DejaVu Sans Mono',consolas,'Courier New',monospace\">Accessing as Yosesotomayor\n",
       "</pre>\n"
      ],
      "text/plain": [
       "Accessing as Yosesotomayor\n"
      ]
     },
     "metadata": {},
     "output_type": "display_data"
    },
    {
     "data": {
      "text/html": [
       "<pre style=\"white-space:pre;overflow-x:auto;line-height:normal;font-family:Menlo,'DejaVu Sans Mono',consolas,'Courier New',monospace\">Initialized MLflow to track repo <span style=\"color: #008000; text-decoration-color: #008000\">\"Yosesotomayor/retoCasas_v2\"</span>\n",
       "</pre>\n"
      ],
      "text/plain": [
       "Initialized MLflow to track repo \u001b[32m\"Yosesotomayor/retoCasas_v2\"\u001b[0m\n"
      ]
     },
     "metadata": {},
     "output_type": "display_data"
    },
    {
     "data": {
      "text/html": [
       "<pre style=\"white-space:pre;overflow-x:auto;line-height:normal;font-family:Menlo,'DejaVu Sans Mono',consolas,'Courier New',monospace\">Repository Yosesotomayor/retoCasas_v2 initialized!\n",
       "</pre>\n"
      ],
      "text/plain": [
       "Repository Yosesotomayor/retoCasas_v2 initialized!\n"
      ]
     },
     "metadata": {},
     "output_type": "display_data"
    }
   ],
   "source": [
    "\n",
    "import sys\n",
    "sys.path.append(\"../../../\")\n",
    "from utils.mlflow_flow import set_tracking, quick_log_and_register\n",
    "from utils.utils_yose import load_data, make_features\n",
    "\n",
    "from ensemble import EnsembleModel\n",
    "import numpy as np\n",
    "\n",
    "import joblib\n",
    "\n",
    "import dagshub\n",
    "import mlflow\n",
    "import os\n",
    "\n",
    "from mlflow.tracking import MlflowClient\n",
    "\n",
    "from warnings import filterwarnings\n",
    "from dotenv import load_dotenv\n",
    "\n",
    "dagshub.init(repo_owner='Yosesotomayor', repo_name='retoCasas_v2', mlflow=True)\n",
    "\n",
    "load_dotenv()\n",
    "ENDPOINT_URL = os.getenv(\"MLFLOW_TRACKING_URI\")\n",
    "ALIAS = os.getenv(\"MODEL_ALIAS\")\n",
    "MODEL_NAME = os.getenv(\"MODEL_NAME\")\n",
    "os.getenv(\"MLFLOW_TRACKING_URI\")\n",
    "os.getenv(\"MLFLOW_REGISTRY_URI\")\n",
    "os.getenv(\"DAGSHUB_TOKEN\")\n",
    "\n",
    "os.environ['MLFLOW_TRACKING_TOKEN'] = os.getenv(\"DAGSHUB_TOKEN\")\n",
    "os.environ.setdefault(\"MLFLOW_HTTP_REQUEST_TIMEOUT\", \"60\")\n",
    "os.environ.setdefault(\"MLFLOW_HTTP_REQUEST_MAX_RETRIES\", \"0\")\n",
    "\n",
    "filterwarnings(\"ignore\")\n",
    "set_tracking(ENDPOINT_URL)\n",
    "\n",
    "sub_dir = \"../../../data/housing_data/\"\n",
    "df_train, df_test = load_data(sub_dir = sub_dir)\n",
    "\n",
    "y = np.log1p(df_train[\"SalePrice\"]).astype(float)\n",
    "rstate = 42\n",
    "\n",
    "X = df_train.drop([\"SalePrice\", \"Id\"], axis=1)\n",
    "X = make_features(X)\n",
    "\n",
    "X_test = df_test.drop([\"Id\"], axis=1)\n",
    "X_test = make_features(X_test)"
   ]
  },
  {
   "cell_type": "markdown",
   "id": "38ba6716",
   "metadata": {},
   "source": [
    "---"
   ]
  },
  {
   "cell_type": "code",
   "execution_count": 3,
   "id": "bdf5416e",
   "metadata": {},
   "outputs": [
    {
     "name": "stdout",
     "output_type": "stream",
     "text": [
      "[LightGBM] [Info] Auto-choosing row-wise multi-threading, the overhead of testing was 0.001662 seconds.\n",
      "You can set `force_row_wise=true` to remove the overhead.\n",
      "And if memory is not enough, you can set `force_col_wise=true`.\n",
      "[LightGBM] [Info] Total Bins 4472\n",
      "[LightGBM] [Info] Number of data points in the train set: 1314, number of used features: 191\n",
      "[LightGBM] [Info] Start training from score 12.022444\n",
      "CV RMSE mean: 0.0768\n",
      "CV RMSE std: 0.0000\n",
      "CV R2 mean: 0.9549\n",
      "CV MSE mean: 0.0059\n",
      "[LightGBM] [Info] Auto-choosing row-wise multi-threading, the overhead of testing was 0.001893 seconds.\n",
      "You can set `force_row_wise=true` to remove the overhead.\n",
      "And if memory is not enough, you can set `force_col_wise=true`.\n",
      "[LightGBM] [Info] Total Bins 4573\n",
      "[LightGBM] [Info] Number of data points in the train set: 1460, number of used features: 196\n",
      "[LightGBM] [Info] Start training from score 12.024057\n"
     ]
    },
    {
     "data": {
      "text/plain": [
       "<ensemble.EnsembleModel at 0x148bc6ab0>"
      ]
     },
     "execution_count": 3,
     "metadata": {},
     "output_type": "execute_result"
    }
   ],
   "source": [
    "model = EnsembleModel(rstate=rstate)\n",
    "model.fit(X, y)"
   ]
  },
  {
   "cell_type": "markdown",
   "id": "c91f95ab",
   "metadata": {},
   "source": [
    "---"
   ]
  },
  {
   "cell_type": "code",
   "execution_count": 4,
   "id": "faabc042",
   "metadata": {},
   "outputs": [
    {
     "data": {
      "text/html": [
       "<div>\n",
       "<style scoped>\n",
       "    .dataframe tbody tr th:only-of-type {\n",
       "        vertical-align: middle;\n",
       "    }\n",
       "\n",
       "    .dataframe tbody tr th {\n",
       "        vertical-align: top;\n",
       "    }\n",
       "\n",
       "    .dataframe thead th {\n",
       "        text-align: right;\n",
       "    }\n",
       "</style>\n",
       "<table border=\"1\" class=\"dataframe\">\n",
       "  <thead>\n",
       "    <tr style=\"text-align: right;\">\n",
       "      <th></th>\n",
       "      <th>feature</th>\n",
       "      <th>importance</th>\n",
       "      <th>feature_elnet</th>\n",
       "      <th>importance_elnet</th>\n",
       "    </tr>\n",
       "  </thead>\n",
       "  <tbody>\n",
       "    <tr>\n",
       "      <th>0</th>\n",
       "      <td>OverallQual_GrLivArea</td>\n",
       "      <td>0.277810</td>\n",
       "      <td>TotalSF</td>\n",
       "      <td>0.225963</td>\n",
       "    </tr>\n",
       "    <tr>\n",
       "      <th>1</th>\n",
       "      <td>TotalSF</td>\n",
       "      <td>0.065699</td>\n",
       "      <td>OverallQual</td>\n",
       "      <td>0.053798</td>\n",
       "    </tr>\n",
       "    <tr>\n",
       "      <th>2</th>\n",
       "      <td>OverallQual</td>\n",
       "      <td>0.022171</td>\n",
       "      <td>GrLivArea</td>\n",
       "      <td>0.031761</td>\n",
       "    </tr>\n",
       "    <tr>\n",
       "      <th>3</th>\n",
       "      <td>GarageCars</td>\n",
       "      <td>0.013117</td>\n",
       "      <td>OverallCond</td>\n",
       "      <td>0.024832</td>\n",
       "    </tr>\n",
       "    <tr>\n",
       "      <th>4</th>\n",
       "      <td>OverallCond</td>\n",
       "      <td>0.012880</td>\n",
       "      <td>Neighborhood</td>\n",
       "      <td>0.024100</td>\n",
       "    </tr>\n",
       "    <tr>\n",
       "      <th>5</th>\n",
       "      <td>LotArea</td>\n",
       "      <td>0.008121</td>\n",
       "      <td>LotArea</td>\n",
       "      <td>0.018567</td>\n",
       "    </tr>\n",
       "    <tr>\n",
       "      <th>6</th>\n",
       "      <td>TotalBath</td>\n",
       "      <td>0.006644</td>\n",
       "      <td>GarageCars</td>\n",
       "      <td>0.014773</td>\n",
       "    </tr>\n",
       "    <tr>\n",
       "      <th>7</th>\n",
       "      <td>KitchenQual</td>\n",
       "      <td>0.005369</td>\n",
       "      <td>TotalBsmtSF</td>\n",
       "      <td>0.014485</td>\n",
       "    </tr>\n",
       "    <tr>\n",
       "      <th>8</th>\n",
       "      <td>TotalBsmtSF</td>\n",
       "      <td>0.005355</td>\n",
       "      <td>MSZoning</td>\n",
       "      <td>0.011113</td>\n",
       "    </tr>\n",
       "    <tr>\n",
       "      <th>9</th>\n",
       "      <td>BsmtFinSF1</td>\n",
       "      <td>0.004667</td>\n",
       "      <td>RoofMatl</td>\n",
       "      <td>0.008311</td>\n",
       "    </tr>\n",
       "    <tr>\n",
       "      <th>10</th>\n",
       "      <td>GarageArea</td>\n",
       "      <td>0.004576</td>\n",
       "      <td>YearBuilt</td>\n",
       "      <td>0.006228</td>\n",
       "    </tr>\n",
       "    <tr>\n",
       "      <th>11</th>\n",
       "      <td>HouseAge</td>\n",
       "      <td>0.004099</td>\n",
       "      <td>BsmtQual</td>\n",
       "      <td>0.005105</td>\n",
       "    </tr>\n",
       "    <tr>\n",
       "      <th>12</th>\n",
       "      <td>SaleCondition</td>\n",
       "      <td>0.003835</td>\n",
       "      <td>HouseAge</td>\n",
       "      <td>0.005054</td>\n",
       "    </tr>\n",
       "    <tr>\n",
       "      <th>13</th>\n",
       "      <td>MSZoning</td>\n",
       "      <td>0.003786</td>\n",
       "      <td>TotalBath</td>\n",
       "      <td>0.004765</td>\n",
       "    </tr>\n",
       "    <tr>\n",
       "      <th>14</th>\n",
       "      <td>Neighborhood</td>\n",
       "      <td>0.003769</td>\n",
       "      <td>Condition1</td>\n",
       "      <td>0.004711</td>\n",
       "    </tr>\n",
       "  </tbody>\n",
       "</table>\n",
       "</div>"
      ],
      "text/plain": [
       "                  feature  importance feature_elnet  importance_elnet\n",
       "0   OverallQual_GrLivArea    0.277810       TotalSF          0.225963\n",
       "1                 TotalSF    0.065699   OverallQual          0.053798\n",
       "2             OverallQual    0.022171     GrLivArea          0.031761\n",
       "3              GarageCars    0.013117   OverallCond          0.024832\n",
       "4             OverallCond    0.012880  Neighborhood          0.024100\n",
       "5                 LotArea    0.008121       LotArea          0.018567\n",
       "6               TotalBath    0.006644    GarageCars          0.014773\n",
       "7             KitchenQual    0.005369   TotalBsmtSF          0.014485\n",
       "8             TotalBsmtSF    0.005355      MSZoning          0.011113\n",
       "9              BsmtFinSF1    0.004667      RoofMatl          0.008311\n",
       "10             GarageArea    0.004576     YearBuilt          0.006228\n",
       "11               HouseAge    0.004099      BsmtQual          0.005105\n",
       "12          SaleCondition    0.003835      HouseAge          0.005054\n",
       "13               MSZoning    0.003786     TotalBath          0.004765\n",
       "14           Neighborhood    0.003769    Condition1          0.004711"
      ]
     },
     "execution_count": 4,
     "metadata": {},
     "output_type": "execute_result"
    }
   ],
   "source": [
    "from sklearn.inspection import permutation_importance\n",
    "import pandas as pd\n",
    "\n",
    "perm = permutation_importance(model.lgbm, X, y, n_repeats=10, random_state=rstate)\n",
    "sorted_idx = perm.importances_mean.argsort()\n",
    "perm_2 = permutation_importance(model.elasticnet, X, y, n_repeats=10, random_state=rstate)\n",
    "sorted_idx_2 = perm_2.importances_mean.argsort()\n",
    "df = pd.DataFrame({\n",
    "    \"feature\": X.columns[sorted_idx],\n",
    "    \"importance\": perm.importances_mean[sorted_idx],\n",
    "    \"feature_elnet\": X.columns[sorted_idx_2],\n",
    "    \"importance_elnet\": perm_2.importances_mean[sorted_idx_2]\n",
    "}).sort_values(by=\"importance\", ascending=False).reset_index(drop=True)\n",
    "df.head(15)"
   ]
  },
  {
   "cell_type": "code",
   "execution_count": null,
   "id": "faefa7d2",
   "metadata": {},
   "outputs": [
    {
     "name": "stdout",
     "output_type": "stream",
     "text": [
      "[LightGBM] [Info] Auto-choosing row-wise multi-threading, the overhead of testing was 0.001080 seconds.\n",
      "You can set `force_row_wise=true` to remove the overhead.\n",
      "And if memory is not enough, you can set `force_col_wise=true`.\n",
      "[LightGBM] [Info] Total Bins 1723\n",
      "[LightGBM] [Info] Number of data points in the train set: 1314, number of used features: 36\n",
      "[LightGBM] [Info] Start training from score 12.022444\n",
      "CV RMSE mean: 0.0902\n",
      "CV RMSE std: 0.0000\n",
      "CV R2 mean: 0.9379\n",
      "CV MSE mean: 0.0081\n",
      "[LightGBM] [Info] Auto-choosing row-wise multi-threading, the overhead of testing was 0.000370 seconds.\n",
      "You can set `force_row_wise=true` to remove the overhead.\n",
      "And if memory is not enough, you can set `force_col_wise=true`.\n",
      "[LightGBM] [Info] Total Bins 1730\n",
      "[LightGBM] [Info] Number of data points in the train set: 1460, number of used features: 38\n",
      "[LightGBM] [Info] Start training from score 12.024057\n"
     ]
    }
   ],
   "source": [
    "top_features = df[\"feature\"].tolist()[:14]\n",
    "\n",
    "X_top = X[top_features]\n",
    "model_feature_selection = model.fit(X_top, y)"
   ]
  },
  {
   "cell_type": "code",
   "execution_count": 7,
   "id": "653f0a33",
   "metadata": {},
   "outputs": [],
   "source": [
    "predictions = model_feature_selection.predict(X_test)\n",
    "df_sub = pd.DataFrame({\"Id\": df_test[\"Id\"], \"SalePrice\": predictions})\n",
    "df_sub.to_csv(\"../../../data/housing_data_submissions/elnet_lgbm/submission_elnet_lgbm-kaggle-top.csv\", index=False)"
   ]
  },
  {
   "cell_type": "code",
   "execution_count": 14,
   "id": "51053555",
   "metadata": {},
   "outputs": [
    {
     "data": {
      "text/html": [
       "<div>\n",
       "<style scoped>\n",
       "    .dataframe tbody tr th:only-of-type {\n",
       "        vertical-align: middle;\n",
       "    }\n",
       "\n",
       "    .dataframe tbody tr th {\n",
       "        vertical-align: top;\n",
       "    }\n",
       "\n",
       "    .dataframe thead th {\n",
       "        text-align: right;\n",
       "    }\n",
       "</style>\n",
       "<table border=\"1\" class=\"dataframe\">\n",
       "  <thead>\n",
       "    <tr style=\"text-align: right;\">\n",
       "      <th></th>\n",
       "      <th>feature</th>\n",
       "      <th>importance</th>\n",
       "    </tr>\n",
       "  </thead>\n",
       "  <tbody>\n",
       "    <tr>\n",
       "      <th>0</th>\n",
       "      <td>OverallQual_GrLivArea</td>\n",
       "      <td>0.277810</td>\n",
       "    </tr>\n",
       "    <tr>\n",
       "      <th>1</th>\n",
       "      <td>TotalSF</td>\n",
       "      <td>0.065699</td>\n",
       "    </tr>\n",
       "    <tr>\n",
       "      <th>2</th>\n",
       "      <td>OverallQual</td>\n",
       "      <td>0.022171</td>\n",
       "    </tr>\n",
       "    <tr>\n",
       "      <th>3</th>\n",
       "      <td>GarageCars</td>\n",
       "      <td>0.013117</td>\n",
       "    </tr>\n",
       "    <tr>\n",
       "      <th>4</th>\n",
       "      <td>OverallCond</td>\n",
       "      <td>0.012880</td>\n",
       "    </tr>\n",
       "    <tr>\n",
       "      <th>5</th>\n",
       "      <td>LotArea</td>\n",
       "      <td>0.008121</td>\n",
       "    </tr>\n",
       "    <tr>\n",
       "      <th>6</th>\n",
       "      <td>TotalBath</td>\n",
       "      <td>0.006644</td>\n",
       "    </tr>\n",
       "    <tr>\n",
       "      <th>7</th>\n",
       "      <td>KitchenQual</td>\n",
       "      <td>0.005369</td>\n",
       "    </tr>\n",
       "    <tr>\n",
       "      <th>10</th>\n",
       "      <td>GarageArea</td>\n",
       "      <td>0.004576</td>\n",
       "    </tr>\n",
       "    <tr>\n",
       "      <th>11</th>\n",
       "      <td>HouseAge</td>\n",
       "      <td>0.004099</td>\n",
       "    </tr>\n",
       "    <tr>\n",
       "      <th>12</th>\n",
       "      <td>SaleCondition</td>\n",
       "      <td>0.003835</td>\n",
       "    </tr>\n",
       "    <tr>\n",
       "      <th>13</th>\n",
       "      <td>MSZoning</td>\n",
       "      <td>0.003786</td>\n",
       "    </tr>\n",
       "  </tbody>\n",
       "</table>\n",
       "</div>"
      ],
      "text/plain": [
       "                  feature  importance\n",
       "0   OverallQual_GrLivArea    0.277810\n",
       "1                 TotalSF    0.065699\n",
       "2             OverallQual    0.022171\n",
       "3              GarageCars    0.013117\n",
       "4             OverallCond    0.012880\n",
       "5                 LotArea    0.008121\n",
       "6               TotalBath    0.006644\n",
       "7             KitchenQual    0.005369\n",
       "10             GarageArea    0.004576\n",
       "11               HouseAge    0.004099\n",
       "12          SaleCondition    0.003835\n",
       "13               MSZoning    0.003786"
      ]
     },
     "execution_count": 14,
     "metadata": {},
     "output_type": "execute_result"
    }
   ],
   "source": [
    "df_top = df.head(14)[['feature', 'importance']]\n",
    "df_top.drop(index=[9, 8], inplace=True)\n",
    "df_top"
   ]
  },
  {
   "cell_type": "code",
   "execution_count": 25,
   "id": "3612ff16",
   "metadata": {},
   "outputs": [
    {
     "name": "stdout",
     "output_type": "stream",
     "text": [
      "[LightGBM] [Info] Auto-choosing row-wise multi-threading, the overhead of testing was 0.001254 seconds.\n",
      "You can set `force_row_wise=true` to remove the overhead.\n",
      "And if memory is not enough, you can set `force_col_wise=true`.\n",
      "[LightGBM] [Info] Total Bins 1177\n",
      "[LightGBM] [Info] Number of data points in the train set: 1314, number of used features: 16\n",
      "[LightGBM] [Info] Start training from score 12.022444\n",
      "CV RMSE mean: 0.0950\n",
      "CV RMSE std: 0.0000\n",
      "CV R2 mean: 0.9310\n",
      "CV MSE mean: 0.0090\n",
      "[LightGBM] [Info] Auto-choosing row-wise multi-threading, the overhead of testing was 0.000472 seconds.\n",
      "You can set `force_row_wise=true` to remove the overhead.\n",
      "And if memory is not enough, you can set `force_col_wise=true`.\n",
      "[LightGBM] [Info] Total Bins 1182\n",
      "[LightGBM] [Info] Number of data points in the train set: 1460, number of used features: 17\n",
      "[LightGBM] [Info] Start training from score 12.024057\n"
     ]
    },
    {
     "data": {
      "text/plain": [
       "['./model/lgbm.pkl']"
      ]
     },
     "execution_count": 25,
     "metadata": {},
     "output_type": "execute_result"
    }
   ],
   "source": [
    "selected_features = df_top[\"feature\"].tolist()\n",
    "X_final = X[selected_features]\n",
    "X_test_final = X_test[selected_features]\n",
    "model_final = model.fit(X_final, y)\n",
    "\n",
    "predictions = model_final.predict(X_test_final)\n",
    "df_sub = pd.DataFrame({\"Id\": df_test[\"Id\"], \"SalePrice\": predictions})\n",
    "df_sub.to_csv(\"../../../data/housing_data_submissions/elnet_lgbm/submission_elnet_lgbm-kaggle-final.csv\", index=False)\n",
    "\n",
    "joblib.dump(model_final.elasticnet, \"./model/elasticnet.pkl\")\n",
    "joblib.dump(model_final.lgbm, \"./model/lgbm.pkl\")\n"
   ]
  },
  {
   "cell_type": "code",
   "execution_count": 30,
   "id": "438a826e",
   "metadata": {},
   "outputs": [],
   "source": [
    "import json\n",
    "model_final.weights\n",
    "\n",
    "with open('./model/weights.json', 'w') as f:\n",
    "    json.dump(model_final.weights, f)\n"
   ]
  },
  {
   "cell_type": "markdown",
   "id": "f683aa5c",
   "metadata": {},
   "source": [
    "---"
   ]
  },
  {
   "cell_type": "code",
   "execution_count": 24,
   "id": "f862337b",
   "metadata": {},
   "outputs": [],
   "source": [
    "# dagshub.init(repo_owner = \"Yosesotomayor\", repo_name = \"retoCasas_v2\", mlflow=True)\n",
    "\n",
    "# model.rmse_std = 0.0\n",
    "# metrics = model.get_metrics()\n",
    "\n",
    "# joblib.dump(model_final.elasticnet, \"./model/elasticnet.pkl\")\n",
    "# joblib.dump(model_final.lgbm, \"./model/lgbm.pkl\")\n",
    "\n",
    "# MODEL_NAME = \"MODELO_APP\"\n",
    "\n",
    "# quick_log_and_register(\n",
    "#     experiment=\"Housing_Competition\",\n",
    "#     run_name=\"MODELO_APP\",\n",
    "#     model=model_final,\n",
    "#     X=X_final, y=y,\n",
    "#     model_name=MODEL_NAME,\n",
    "#     set_challenger=True,\n",
    "#     X_test=X_test_final,\n",
    "#     params=model_final.get_params(),\n",
    "#     metrics=model_final.get_metrics(),\n",
    "#     tags={\"model_final\": \"elnet_lgbm\",\n",
    "#           'rmse': model_final.rmse\n",
    "#           },\n",
    "#     artifacts = {\n",
    "#         \"elnet\": \"./model/elasticnet.pkl\",\n",
    "#         \"lgbm\" : \"./model/lgbm.pkl\"\n",
    "#     }\n",
    "# )\n"
   ]
  },
  {
   "cell_type": "markdown",
   "id": "4efc663a",
   "metadata": {},
   "source": [
    "---"
   ]
  },
  {
   "cell_type": "code",
   "execution_count": null,
   "id": "aab72c9f",
   "metadata": {},
   "outputs": [
    {
     "data": {
      "text/plain": [
       "'\\nprint(\"[URIs]\")\\nprint(\"Tracking URI :\", mlflow.get_tracking_uri())\\nprint(\"Registry URI :\", mlflow.get_registry_uri())\\nprint(\"MLFLOW_TRACKING_TOKEN:\", bool(os.getenv(\"MLFLOW_TRACKING_TOKEN\")))\\nprint(\"DAGSHUB_TOKEN        :\", bool(os.getenv(\"DAGSHUB_TOKEN\")))\\nprint(\"MLFLOW_TRACKING_USERNAME:\", os.getenv(\"MLFLOW_TRACKING_USERNAME\"))\\nprint()\\n\\nclient = MlflowClient()\\n\\nmv = client.get_model_version_by_alias(MODEL_NAME, ALIAS)\\nrun_id = mv.run_id\\nprint(f\"[Modelo] {MODEL_NAME}@{ALIAS} -> version={mv.version}\")\\nprint(\"source           :\", mv.source)\\nprint(\"storage_location :\", getattr(mv, \"storage_location\", None))\\n'"
      ]
     },
     "execution_count": 4,
     "metadata": {},
     "output_type": "execute_result"
    }
   ],
   "source": [
    "\"\"\"\n",
    "print(\"[URIs]\")\n",
    "print(\"Tracking URI :\", mlflow.get_tracking_uri())\n",
    "print(\"Registry URI :\", mlflow.get_registry_uri())\n",
    "print(\"MLFLOW_TRACKING_TOKEN:\", bool(os.getenv(\"MLFLOW_TRACKING_TOKEN\")))\n",
    "print(\"DAGSHUB_TOKEN        :\", bool(os.getenv(\"DAGSHUB_TOKEN\")))\n",
    "print(\"MLFLOW_TRACKING_USERNAME:\", os.getenv(\"MLFLOW_TRACKING_USERNAME\"))\n",
    "print()\n",
    "\n",
    "client = MlflowClient()\n",
    "\n",
    "mv = client.get_model_version_by_alias(MODEL_NAME, ALIAS)\n",
    "run_id = mv.run_id\n",
    "print(f\"[Modelo] {MODEL_NAME}@{ALIAS} -> version={mv.version}\")\n",
    "print(\"source           :\", mv.source)\n",
    "print(\"storage_location :\", getattr(mv, \"storage_location\", None))\n",
    "\"\"\""
   ]
  },
  {
   "cell_type": "markdown",
   "id": "4950350e",
   "metadata": {},
   "source": [
    "---"
   ]
  }
 ],
 "metadata": {
  "kernelspec": {
   "display_name": "Reto_housing",
   "language": "python",
   "name": "python3"
  },
  "language_info": {
   "codemirror_mode": {
    "name": "ipython",
    "version": 3
   },
   "file_extension": ".py",
   "mimetype": "text/x-python",
   "name": "python",
   "nbconvert_exporter": "python",
   "pygments_lexer": "ipython3",
   "version": "3.12.11"
  }
 },
 "nbformat": 4,
 "nbformat_minor": 5
}
