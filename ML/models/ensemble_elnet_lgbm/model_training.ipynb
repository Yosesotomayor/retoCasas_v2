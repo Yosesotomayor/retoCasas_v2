{
 "cells": [
  {
   "cell_type": "markdown",
   "id": "66466786",
   "metadata": {},
   "source": [
    "---"
   ]
  },
  {
   "cell_type": "code",
   "execution_count": null,
   "id": "c6756543",
   "metadata": {},
   "outputs": [],
   "source": [
    "import sys\n",
    "sys.path.append(\"../../../\")\n",
    "from ML.utils.mlflow_flow import set_tracking, quick_log_and_register\n",
    "from ML.utils.utils_yose import load_data, make_features\n",
    "\n",
    "from ensemble import EnsembleModel\n",
    "import numpy as np\n",
    "import pandas as pd\n",
    "\n",
    "import dagshub\n",
    "import mlflow\n",
    "import os\n",
    "\n",
    "from warnings import filterwarnings\n",
    "\n",
    "filterwarnings(\"ignore\")\n",
    "set_tracking(\"https://dagshub.com/Yosesotomayor/retoCasas_v2.mlflow\")\n",
    "\n",
    "MODEL_NAME = \"elnet_lgbm\"\n",
    "\n",
    "df_train, df_test = load_data()\n",
    "\n",
    "y = np.log1p(df_train[\"SalePrice\"]).astype(float)\n",
    "X = df_train.drop([\"SalePrice\", \"Id\"], axis=1)\n",
    "X = make_features(X)\n",
    "\n",
    "rstate = 42\n",
    "\n",
    "X_test = make_features(df_test.drop([\"Id\"], axis=1))"
   ]
  },
  {
   "cell_type": "markdown",
   "id": "38ba6716",
   "metadata": {},
   "source": [
    "---"
   ]
  },
  {
   "cell_type": "code",
   "execution_count": 8,
   "id": "bdf5416e",
   "metadata": {},
   "outputs": [
    {
     "name": "stdout",
     "output_type": "stream",
     "text": [
      "[LightGBM] [Info] Auto-choosing row-wise multi-threading, the overhead of testing was 0.002564 seconds.\n",
      "You can set `force_row_wise=true` to remove the overhead.\n",
      "And if memory is not enough, you can set `force_col_wise=true`.\n",
      "[LightGBM] [Info] Total Bins 4472\n",
      "[LightGBM] [Info] Number of data points in the train set: 1314, number of used features: 191\n",
      "[LightGBM] [Info] Start training from score 12.022444\n",
      "CV RMSE mean: 0.0768\n",
      "CV RMSE std: 0.0000\n",
      "CV R2 mean: 0.9549\n",
      "[LightGBM] [Info] Auto-choosing row-wise multi-threading, the overhead of testing was 0.001951 seconds.\n",
      "You can set `force_row_wise=true` to remove the overhead.\n",
      "And if memory is not enough, you can set `force_col_wise=true`.\n",
      "[LightGBM] [Info] Total Bins 4573\n",
      "[LightGBM] [Info] Number of data points in the train set: 1460, number of used features: 196\n",
      "[LightGBM] [Info] Start training from score 12.024057\n"
     ]
    },
    {
     "data": {
      "text/plain": [
       "<ensemble.EnsembleModel at 0x14f7f7650>"
      ]
     },
     "execution_count": 8,
     "metadata": {},
     "output_type": "execute_result"
    }
   ],
   "source": [
    "model = EnsembleModel(rstate=rstate)\n",
    "model.fit(X, y)"
   ]
  },
  {
   "cell_type": "markdown",
   "id": "f683aa5c",
   "metadata": {},
   "source": [
    "---"
   ]
  },
  {
   "cell_type": "code",
   "execution_count": 10,
   "id": "f862337b",
   "metadata": {},
   "outputs": [
    {
     "name": "stderr",
     "output_type": "stream",
     "text": [
      "INFO:httpx:HTTP Request: GET https://dagshub.com/api/v1/repos/Yosesotomayor/retoCasas_v2 \"HTTP/1.1 200 OK\"\n"
     ]
    },
    {
     "data": {
      "text/html": [
       "<pre style=\"white-space:pre;overflow-x:auto;line-height:normal;font-family:Menlo,'DejaVu Sans Mono',consolas,'Courier New',monospace\">Initialized MLflow to track repo <span style=\"color: #008000; text-decoration-color: #008000\">\"Yosesotomayor/retoCasas_v2\"</span>\n",
       "</pre>\n"
      ],
      "text/plain": [
       "Initialized MLflow to track repo \u001b[32m\"Yosesotomayor/retoCasas_v2\"\u001b[0m\n"
      ]
     },
     "metadata": {},
     "output_type": "display_data"
    },
    {
     "name": "stderr",
     "output_type": "stream",
     "text": [
      "INFO:dagshub:Initialized MLflow to track repo \"Yosesotomayor/retoCasas_v2\"\n"
     ]
    },
    {
     "data": {
      "text/html": [
       "<pre style=\"white-space:pre;overflow-x:auto;line-height:normal;font-family:Menlo,'DejaVu Sans Mono',consolas,'Courier New',monospace\">Repository Yosesotomayor/retoCasas_v2 initialized!\n",
       "</pre>\n"
      ],
      "text/plain": [
       "Repository Yosesotomayor/retoCasas_v2 initialized!\n"
      ]
     },
     "metadata": {},
     "output_type": "display_data"
    },
    {
     "name": "stderr",
     "output_type": "stream",
     "text": [
      "INFO:dagshub:Repository Yosesotomayor/retoCasas_v2 initialized!\n"
     ]
    },
    {
     "name": "stdout",
     "output_type": "stream",
     "text": [
      "Subiendo modelo...\n"
     ]
    },
    {
     "name": "stderr",
     "output_type": "stream",
     "text": [
      "2025/08/28 10:12:55 INFO mlflow.tracking.fluent: Experiment with name 'Housing_Competition' does not exist. Creating a new experiment.\n"
     ]
    },
    {
     "name": "stdout",
     "output_type": "stream",
     "text": [
      "🏃 View run elnet_lgbm at: https://dagshub.com/Yosesotomayor/retoCasas_v2.mlflow/#/experiments/1/runs/ceb1d62c3a24458296732a6d57a1d48f\n",
      "🧪 View experiment at: https://dagshub.com/Yosesotomayor/retoCasas_v2.mlflow/#/experiments/1\n"
     ]
    },
    {
     "name": "stderr",
     "output_type": "stream",
     "text": [
      "Successfully registered model 'elnet_lgbm'.\n",
      "2025/08/28 10:13:13 INFO mlflow.store.model_registry.abstract_store: Waiting up to 300 seconds for model version to finish creation. Model name: elnet_lgbm, version 1\n",
      "Created version '1' of model 'elnet_lgbm'.\n"
     ]
    },
    {
     "name": "stdout",
     "output_type": "stream",
     "text": [
      "Modelo subido.\n"
     ]
    },
    {
     "data": {
      "text/plain": [
       "('runs:/ceb1d62c3a24458296732a6d57a1d48f/model', '1')"
      ]
     },
     "execution_count": 10,
     "metadata": {},
     "output_type": "execute_result"
    }
   ],
   "source": [
    "\n",
    "\n",
    "dagshub.init(repo_owner = \"Yosesotomayor\", repo_name = \"retoCasas_v2\", mlflow=True)\n",
    "\n",
    "quick_log_and_register(\n",
    "    experiment=\"Housing_Competition\",\n",
    "    run_name=\"elnet_lgbm\",\n",
    "    model=model,\n",
    "    X=X, y=y,\n",
    "    model_name=MODEL_NAME,\n",
    "    set_challenger=True,\n",
    "    X_test=X_test,\n",
    "    params=model.get_params(),\n",
    "    metrics=model.get_metrics(),\n",
    ")"
   ]
  },
  {
   "cell_type": "markdown",
   "id": "4efc663a",
   "metadata": {},
   "source": [
    "---"
   ]
  },
  {
   "cell_type": "code",
   "execution_count": 4,
   "id": "eb675be4",
   "metadata": {},
   "outputs": [
    {
     "name": "stderr",
     "output_type": "stream",
     "text": [
      "Downloading artifacts: 100%|██████████| 7/7 [00:03<00:00,  1.85it/s]\n"
     ]
    }
   ],
   "source": [
    "model_r = mlflow.pyfunc.load_model(f\"models:/{MODEL_NAME}@challenger\")\n",
    "preds_orig = model_r.predict(X_test)\n",
    "\n",
    "\n",
    "sub_dir = \"../../../data/housing_submissions/elnet_lgbm2\"\n",
    "os.makedirs(sub_dir, exist_ok=True)\n",
    "submission_path = os.path.join(sub_dir, \"submission_elnet_lgbm2.csv\")\n",
    "\n",
    "\n",
    "df_sub = pd.DataFrame({\"Id\": df_test[\"Id\"], \"SalePrice\": preds_orig})\n",
    "df_sub.to_csv(submission_path, index=False)"
   ]
  },
  {
   "cell_type": "markdown",
   "id": "4950350e",
   "metadata": {},
   "source": [
    "---"
   ]
  }
 ],
 "metadata": {
  "kernelspec": {
   "display_name": "Reto_housing",
   "language": "python",
   "name": "python3"
  },
  "language_info": {
   "codemirror_mode": {
    "name": "ipython",
    "version": 3
   },
   "file_extension": ".py",
   "mimetype": "text/x-python",
   "name": "python",
   "nbconvert_exporter": "python",
   "pygments_lexer": "ipython3",
   "version": "3.12.11"
  }
 },
 "nbformat": 4,
 "nbformat_minor": 5
}
