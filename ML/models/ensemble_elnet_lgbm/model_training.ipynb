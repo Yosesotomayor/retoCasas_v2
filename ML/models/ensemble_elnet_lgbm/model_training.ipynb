{
 "cells": [
  {
   "cell_type": "markdown",
   "id": "66466786",
   "metadata": {},
   "source": [
    "---"
   ]
  },
  {
   "cell_type": "code",
   "execution_count": 1,
   "id": "c6756543",
   "metadata": {},
   "outputs": [
    {
     "data": {
      "text/html": [
       "<pre style=\"white-space:pre;overflow-x:auto;line-height:normal;font-family:Menlo,'DejaVu Sans Mono',consolas,'Courier New',monospace\">Accessing as Yosesotomayor\n",
       "</pre>\n"
      ],
      "text/plain": [
       "Accessing as Yosesotomayor\n"
      ]
     },
     "metadata": {},
     "output_type": "display_data"
    },
    {
     "data": {
      "text/html": [
       "<pre style=\"white-space:pre;overflow-x:auto;line-height:normal;font-family:Menlo,'DejaVu Sans Mono',consolas,'Courier New',monospace\">Initialized MLflow to track repo <span style=\"color: #008000; text-decoration-color: #008000\">\"Yosesotomayor/retoCasas_v2\"</span>\n",
       "</pre>\n"
      ],
      "text/plain": [
       "Initialized MLflow to track repo \u001b[32m\"Yosesotomayor/retoCasas_v2\"\u001b[0m\n"
      ]
     },
     "metadata": {},
     "output_type": "display_data"
    },
    {
     "data": {
      "text/html": [
       "<pre style=\"white-space:pre;overflow-x:auto;line-height:normal;font-family:Menlo,'DejaVu Sans Mono',consolas,'Courier New',monospace\">Repository Yosesotomayor/retoCasas_v2 initialized!\n",
       "</pre>\n"
      ],
      "text/plain": [
       "Repository Yosesotomayor/retoCasas_v2 initialized!\n"
      ]
     },
     "metadata": {},
     "output_type": "display_data"
    }
   ],
   "source": [
    "import sys\n",
    "sys.path.append(\"../../../\")\n",
    "from ML.utils.mlflow_flow import set_tracking, quick_log_and_register\n",
    "from ML.utils.utils_yose import load_data, make_features \n",
    "\n",
    "from ensemble import EnsembleModel\n",
    "import numpy as np\n",
    "import pandas as pd\n",
    "\n",
    "import dagshub\n",
    "import mlflow\n",
    "import os\n",
    "\n",
    "from warnings import filterwarnings\n",
    "from dotenv import load_dotenv\n",
    "\n",
    "dagshub.init(repo_owner='Yosesotomayor', repo_name='retoCasas_v2', mlflow=True)\n",
    "\n",
    "load_dotenv()\n",
    "ENDPOINT_URL = os.getenv(\"MLFLOW_TRACKING_URI\")\n",
    "os.getenv(\"MLFLOW_TRACKING_URI\")\n",
    "os.getenv(\"MLFLOW_REGISTRY_URI\")\n",
    "os.getenv(\"DAGSHUB_TOKEN\")\n",
    "\n",
    "os.environ['MLFLOW_TRACKING_TOKEN'] = os.getenv(\"DAGSHUB_TOKEN\")\n",
    "\n",
    "filterwarnings(\"ignore\")\n",
    "set_tracking(ENDPOINT_URL)\n",
    "\n",
    "MODEL_NAME = \"elnet_lgbm\"\n",
    "\n",
    "sub_dir = \"../../../data/housing_data/\"\n",
    "df_train, df_test = load_data(sub_dir = sub_dir)\n",
    "\n",
    "y = np.log1p(df_train[\"SalePrice\"]).astype(float)\n",
    "X = df_train.drop([\"SalePrice\", \"Id\"], axis=1)\n",
    "X = make_features(X)\n",
    "\n",
    "rstate = 42\n",
    "\n",
    "X_test = make_features(df_test.drop([\"Id\"], axis=1))"
   ]
  },
  {
   "cell_type": "markdown",
   "id": "38ba6716",
   "metadata": {},
   "source": [
    "---"
   ]
  },
  {
   "cell_type": "code",
   "execution_count": 2,
   "id": "bdf5416e",
   "metadata": {},
   "outputs": [
    {
     "name": "stdout",
     "output_type": "stream",
     "text": [
      "[LightGBM] [Info] Auto-choosing row-wise multi-threading, the overhead of testing was 0.002287 seconds.\n",
      "You can set `force_row_wise=true` to remove the overhead.\n",
      "And if memory is not enough, you can set `force_col_wise=true`.\n",
      "[LightGBM] [Info] Total Bins 4573\n",
      "[LightGBM] [Info] Number of data points in the train set: 1460, number of used features: 196\n",
      "[LightGBM] [Info] Start training from score 2.566329\n"
     ]
    },
    {
     "data": {
      "text/plain": [
       "<ensemble.EnsembleModel at 0x14dea1d60>"
      ]
     },
     "execution_count": 2,
     "metadata": {},
     "output_type": "execute_result"
    }
   ],
   "source": [
    "model = EnsembleModel(rstate=rstate)\n",
    "model.fit_full(X, y)"
   ]
  },
  {
   "cell_type": "markdown",
   "id": "f683aa5c",
   "metadata": {},
   "source": [
    "---"
   ]
  },
  {
   "cell_type": "code",
   "execution_count": 3,
   "id": "f862337b",
   "metadata": {},
   "outputs": [
    {
     "name": "stderr",
     "output_type": "stream",
     "text": [
      "Got status code 500 when getting repository info.\n"
     ]
    },
    {
     "ename": "RuntimeError",
     "evalue": "Got status code 500 when getting repository info.",
     "output_type": "error",
     "traceback": [
      "\u001b[31m---------------------------------------------------------------------------\u001b[39m",
      "\u001b[31mRuntimeError\u001b[39m                              Traceback (most recent call last)",
      "\u001b[36mCell\u001b[39m\u001b[36m \u001b[39m\u001b[32mIn[3]\u001b[39m\u001b[32m, line 1\u001b[39m\n\u001b[32m----> \u001b[39m\u001b[32m1\u001b[39m \u001b[43mdagshub\u001b[49m\u001b[43m.\u001b[49m\u001b[43minit\u001b[49m\u001b[43m(\u001b[49m\u001b[43mrepo_owner\u001b[49m\u001b[43m \u001b[49m\u001b[43m=\u001b[49m\u001b[43m \u001b[49m\u001b[33;43m\"\u001b[39;49m\u001b[33;43mYosesotomayor\u001b[39;49m\u001b[33;43m\"\u001b[39;49m\u001b[43m,\u001b[49m\u001b[43m \u001b[49m\u001b[43mrepo_name\u001b[49m\u001b[43m \u001b[49m\u001b[43m=\u001b[49m\u001b[43m \u001b[49m\u001b[33;43m\"\u001b[39;49m\u001b[33;43mretoCasas_v2\u001b[39;49m\u001b[33;43m\"\u001b[39;49m\u001b[43m,\u001b[49m\u001b[43m \u001b[49m\u001b[43mmlflow\u001b[49m\u001b[43m=\u001b[49m\u001b[38;5;28;43;01mTrue\u001b[39;49;00m\u001b[43m)\u001b[49m\n\u001b[32m      3\u001b[39m quick_log_and_register(\n\u001b[32m      4\u001b[39m     experiment=\u001b[33m\"\u001b[39m\u001b[33mHousing_Competition\u001b[39m\u001b[33m\"\u001b[39m,\n\u001b[32m      5\u001b[39m     run_name=\u001b[33m\"\u001b[39m\u001b[33melnet_lgbm_kaggle\u001b[39m\u001b[33m\"\u001b[39m,\n\u001b[32m   (...)\u001b[39m\u001b[32m     12\u001b[39m     metrics=model.get_metrics(),\n\u001b[32m     13\u001b[39m )\n",
      "\u001b[36mFile \u001b[39m\u001b[32m/opt/miniconda3/envs/Reto_housing/lib/python3.12/site-packages/dagshub/common/init.py:88\u001b[39m, in \u001b[36minit\u001b[39m\u001b[34m(repo_name, repo_owner, url, root, host, mlflow, dvc, patch_mlflow)\u001b[39m\n\u001b[32m     86\u001b[39m repo_api = RepoAPI(\u001b[33mf\u001b[39m\u001b[33m\"\u001b[39m\u001b[38;5;132;01m{\u001b[39;00mrepo_owner\u001b[38;5;132;01m}\u001b[39;00m\u001b[33m/\u001b[39m\u001b[38;5;132;01m{\u001b[39;00mrepo_name\u001b[38;5;132;01m}\u001b[39;00m\u001b[33m\"\u001b[39m, host=host)\n\u001b[32m     87\u001b[39m \u001b[38;5;28;01mtry\u001b[39;00m:\n\u001b[32m---> \u001b[39m\u001b[32m88\u001b[39m     \u001b[43mrepo_api\u001b[49m\u001b[43m.\u001b[49m\u001b[43mget_repo_info\u001b[49m\u001b[43m(\u001b[49m\u001b[43m)\u001b[49m\n\u001b[32m     89\u001b[39m \u001b[38;5;28;01mexcept\u001b[39;00m RepoNotFoundError:\n\u001b[32m     90\u001b[39m     log_message(\u001b[33mf\u001b[39m\u001b[33m\"\u001b[39m\u001b[33mRepository \u001b[39m\u001b[38;5;132;01m{\u001b[39;00mrepo_name\u001b[38;5;132;01m}\u001b[39;00m\u001b[33m doesn\u001b[39m\u001b[33m'\u001b[39m\u001b[33mt exist, creating it under current user.\u001b[39m\u001b[33m\"\u001b[39m)\n",
      "\u001b[36mFile \u001b[39m\u001b[32m/opt/miniconda3/envs/Reto_housing/lib/python3.12/site-packages/dagshub/common/api/repo.py:108\u001b[39m, in \u001b[36mRepoAPI.get_repo_info\u001b[39m\u001b[34m(self)\u001b[39m\n\u001b[32m    106\u001b[39m     logger.error(error_msg)\n\u001b[32m    107\u001b[39m     logger.debug(res.content)\n\u001b[32m--> \u001b[39m\u001b[32m108\u001b[39m     \u001b[38;5;28;01mraise\u001b[39;00m \u001b[38;5;167;01mRuntimeError\u001b[39;00m(error_msg)\n\u001b[32m    109\u001b[39m \u001b[38;5;28;01mreturn\u001b[39;00m dacite.from_dict(RepoAPIResponse, res.json())\n",
      "\u001b[31mRuntimeError\u001b[39m: Got status code 500 when getting repository info."
     ]
    }
   ],
   "source": [
    "dagshub.init(repo_owner = \"Yosesotomayor\", repo_name = \"retoCasas_v2\", mlflow=True)\n",
    "\n",
    "quick_log_and_register(\n",
    "    experiment=\"Housing_Competition\",\n",
    "    run_name=\"elnet_lgbm_kaggle\",\n",
    "    model=model,\n",
    "    X=X, y=y,\n",
    "    model_name=MODEL_NAME,\n",
    "    set_challenger=True,\n",
    "    X_test=X_test,\n",
    "    params=model.get_params(),\n",
    "    metrics=model.get_metrics(),\n",
    ")"
   ]
  },
  {
   "cell_type": "code",
   "execution_count": 5,
   "id": "7c9a1d79",
   "metadata": {},
   "outputs": [
    {
     "name": "stdout",
     "output_type": "stream",
     "text": [
      "mlflow version: 2.22.0\n",
      "tracking: https://dagshub.com/<USER>/<REPO>.mlflow\n",
      "registry: https://dagshub.com/<USER>/<REPO>.mlflow\n",
      "has token: True\n",
      "\n",
      "=== Experimentos ===\n"
     ]
    },
    {
     "ename": "AttributeError",
     "evalue": "module 'mlflow' has no attribute 'list_experiments'",
     "output_type": "error",
     "traceback": [
      "\u001b[31m---------------------------------------------------------------------------\u001b[39m",
      "\u001b[31mAttributeError\u001b[39m                            Traceback (most recent call last)",
      "\u001b[36mCell\u001b[39m\u001b[36m \u001b[39m\u001b[32mIn[5]\u001b[39m\u001b[32m, line 20\u001b[39m\n\u001b[32m     18\u001b[39m \u001b[38;5;66;03m# 1) Experimentos (API alto nivel)\u001b[39;00m\n\u001b[32m     19\u001b[39m \u001b[38;5;28mprint\u001b[39m(\u001b[33m\"\u001b[39m\u001b[38;5;130;01m\\n\u001b[39;00m\u001b[33m=== Experimentos ===\u001b[39m\u001b[33m\"\u001b[39m)\n\u001b[32m---> \u001b[39m\u001b[32m20\u001b[39m \u001b[38;5;28;01mfor\u001b[39;00m e \u001b[38;5;129;01min\u001b[39;00m \u001b[43mmlflow\u001b[49m\u001b[43m.\u001b[49m\u001b[43mlist_experiments\u001b[49m():\n\u001b[32m     21\u001b[39m     \u001b[38;5;28mprint\u001b[39m(\u001b[33m\"\u001b[39m\u001b[33m -\u001b[39m\u001b[33m\"\u001b[39m, e.name, e.experiment_id)\n\u001b[32m     23\u001b[39m \u001b[38;5;66;03m# 2) Registry (API client)\u001b[39;00m\n",
      "\u001b[31mAttributeError\u001b[39m: module 'mlflow' has no attribute 'list_experiments'"
     ]
    }
   ],
   "source": [
    "import os, mlflow\n",
    "from mlflow.tracking import MlflowClient\n",
    "\n",
    "URI = \"https://dagshub.com/<USER>/<REPO>.mlflow\"  # <-- pon tu repo correcto\n",
    "\n",
    "os.environ[\"MLFLOW_TRACKING_URI\"] = URI\n",
    "mlflow.set_tracking_uri(URI)\n",
    "try:\n",
    "    mlflow.set_registry_uri(URI)\n",
    "except Exception:\n",
    "    pass\n",
    "\n",
    "print(\"mlflow version:\", mlflow.__version__)\n",
    "print(\"tracking:\", mlflow.get_tracking_uri())\n",
    "print(\"registry:\", mlflow.get_registry_uri())\n",
    "print(\"has token:\", bool(os.environ.get(\"DAGSHUB_TOKEN\") or os.environ.get(\"MLFLOW_TRACKING_TOKEN\")))\n",
    "\n",
    "# 1) Experimentos (API alto nivel)\n",
    "print(\"\\n=== Experimentos ===\")\n",
    "for e in mlflow.list_experiments():\n",
    "    print(\" -\", e.name, e.experiment_id)\n",
    "\n",
    "# 2) Registry (API client)\n",
    "client = MlflowClient()\n",
    "print(\"\\n=== Model Registry ===\")\n",
    "try:\n",
    "    rms = client.search_registered_models(max_results=5)\n",
    "    print(\"OK, models:\", [m.name for m in rms])\n",
    "except Exception as e:\n",
    "    print(\"Registry falla:\", type(e).__name__, str(e)[:200])\n",
    "\n",
    "# 3) Carga directa por runs (descarta problemas de Registry)\n",
    "try:\n",
    "    m = mlflow.pyfunc.load_model(\"runs:/ceb1d62c3a24458296732a6d57a1d48f/model\")\n",
    "    print(\"\\nCarga por runs:/ --> OK\")\n",
    "except Exception as e:\n",
    "    print(\"\\nCarga por runs:/ falla:\", type(e).__name__, str(e)[:200])"
   ]
  },
  {
   "cell_type": "markdown",
   "id": "4efc663a",
   "metadata": {},
   "source": [
    "---"
   ]
  },
  {
   "cell_type": "code",
   "execution_count": null,
   "id": "b4039303",
   "metadata": {},
   "outputs": [
    {
     "name": "stderr",
     "output_type": "stream",
     "text": [
      "Downloading artifacts: 100%|██████████| 7/7 [00:01<00:00,  4.45it/s]\n"
     ]
    }
   ],
   "source": [
    "model_r = mlflow.pyfunc.load_model(\"runs:/ceb1d62c3a24458296732a6d57a1d48f/model\")"
   ]
  },
  {
   "cell_type": "code",
   "execution_count": null,
   "id": "eb675be4",
   "metadata": {},
   "outputs": [],
   "source": [
    "#model_r = mlflow.pyfunc.load_model(f\"models:/{MODEL_NAME}@challenger\")\n",
    "preds_orig = model_r.predict(X_test)\n",
    "\n",
    "\n",
    "sub_dir = \"../../../data/housing_submissions/elnet_lgbm2-kaggle\"\n",
    "os.makedirs(sub_dir, exist_ok=True)\n",
    "submission_path = os.path.join(sub_dir, \"submission_elnet_lgbm-kaggle.csv\")\n",
    "\n",
    "\n",
    "df_sub = pd.DataFrame({\"Id\": df_test[\"Id\"], \"SalePrice\": preds_orig})\n",
    "df_sub.to_csv(submission_path, index=False)"
   ]
  },
  {
   "cell_type": "markdown",
   "id": "4950350e",
   "metadata": {},
   "source": [
    "---"
   ]
  }
 ],
 "metadata": {
  "kernelspec": {
   "display_name": "Reto_housing",
   "language": "python",
   "name": "python3"
  },
  "language_info": {
   "codemirror_mode": {
    "name": "ipython",
    "version": 3
   },
   "file_extension": ".py",
   "mimetype": "text/x-python",
   "name": "python",
   "nbconvert_exporter": "python",
   "pygments_lexer": "ipython3",
   "version": "3.12.11"
  }
 },
 "nbformat": 4,
 "nbformat_minor": 5
}
