{
 "cells": [
  {
   "cell_type": "markdown",
   "id": "66466786",
   "metadata": {},
   "source": [
    "---"
   ]
  },
  {
   "cell_type": "code",
   "execution_count": 9,
   "id": "c6756543",
   "metadata": {},
   "outputs": [
    {
     "data": {
      "text/html": [
       "<pre style=\"white-space:pre;overflow-x:auto;line-height:normal;font-family:Menlo,'DejaVu Sans Mono',consolas,'Courier New',monospace\">Initialized MLflow to track repo <span style=\"color: #008000; text-decoration-color: #008000\">\"Yosesotomayor/retoCasas_v2\"</span>\n",
       "</pre>\n"
      ],
      "text/plain": [
       "Initialized MLflow to track repo \u001b[32m\"Yosesotomayor/retoCasas_v2\"\u001b[0m\n"
      ]
     },
     "metadata": {},
     "output_type": "display_data"
    },
    {
     "data": {
      "text/html": [
       "<pre style=\"white-space:pre;overflow-x:auto;line-height:normal;font-family:Menlo,'DejaVu Sans Mono',consolas,'Courier New',monospace\">Repository Yosesotomayor/retoCasas_v2 initialized!\n",
       "</pre>\n"
      ],
      "text/plain": [
       "Repository Yosesotomayor/retoCasas_v2 initialized!\n"
      ]
     },
     "metadata": {},
     "output_type": "display_data"
    }
   ],
   "source": [
    "\n",
    "import sys\n",
    "sys.path.append(\"../../../\")\n",
    "from utils.mlflow_flow import set_tracking, quick_log_and_register\n",
    "from utils.utils_yose import load_data, make_features, build_preprocessor\n",
    "\n",
    "from ensemble import EnsembleModel\n",
    "import numpy as np\n",
    "\n",
    "import joblib\n",
    "\n",
    "import dagshub\n",
    "import mlflow\n",
    "import os\n",
    "\n",
    "from mlflow.tracking import MlflowClient\n",
    "\n",
    "from warnings import filterwarnings\n",
    "from dotenv import load_dotenv\n",
    "\n",
    "dagshub.init(repo_owner='Yosesotomayor', repo_name='retoCasas_v2', mlflow=True)\n",
    "\n",
    "load_dotenv()\n",
    "ENDPOINT_URL = os.getenv(\"MLFLOW_TRACKING_URI\")\n",
    "ALIAS = os.getenv(\"MODEL_ALIAS\")\n",
    "MODEL_NAME = os.getenv(\"MODEL_NAME\")\n",
    "os.getenv(\"MLFLOW_TRACKING_URI\")\n",
    "os.getenv(\"MLFLOW_REGISTRY_URI\")\n",
    "os.getenv(\"DAGSHUB_TOKEN\")\n",
    "\n",
    "os.environ['MLFLOW_TRACKING_TOKEN'] = os.getenv(\"DAGSHUB_TOKEN\")\n",
    "os.environ.setdefault(\"MLFLOW_HTTP_REQUEST_TIMEOUT\", \"60\")\n",
    "os.environ.setdefault(\"MLFLOW_HTTP_REQUEST_MAX_RETRIES\", \"0\")\n",
    "\n",
    "filterwarnings(\"ignore\")\n",
    "set_tracking(ENDPOINT_URL)\n",
    "\n",
    "sub_dir = \"../../../data/housing_data/\"\n",
    "df_train, df_test = load_data(sub_dir = sub_dir)\n",
    "\n",
    "y = np.log1p(df_train[\"SalePrice\"]).astype(float)\n",
    "rstate = 42\n",
    "\n",
    "X = df_train.drop([\"SalePrice\", \"Id\"], axis=1)\n",
    "X = make_features(X)\n",
    "\n",
    "X_test = df_test.drop([\"Id\"], axis=1)\n",
    "X_test = make_features(X_test)"
   ]
  },
  {
   "cell_type": "markdown",
   "id": "38ba6716",
   "metadata": {},
   "source": [
    "---"
   ]
  },
  {
   "cell_type": "code",
   "execution_count": 2,
   "id": "bdf5416e",
   "metadata": {},
   "outputs": [
    {
     "name": "stdout",
     "output_type": "stream",
     "text": [
      "[LightGBM] [Info] Auto-choosing row-wise multi-threading, the overhead of testing was 0.002932 seconds.\n",
      "You can set `force_row_wise=true` to remove the overhead.\n",
      "And if memory is not enough, you can set `force_col_wise=true`.\n",
      "[LightGBM] [Info] Total Bins 4573\n",
      "[LightGBM] [Info] Number of data points in the train set: 1460, number of used features: 196\n",
      "[LightGBM] [Info] Start training from score 2.566329\n"
     ]
    },
    {
     "data": {
      "text/plain": [
       "<ensemble.EnsembleModel at 0x110a71b20>"
      ]
     },
     "execution_count": 2,
     "metadata": {},
     "output_type": "execute_result"
    }
   ],
   "source": [
    "model = EnsembleModel(rstate=rstate)\n",
    "model.fit_full(X, y)"
   ]
  },
  {
   "cell_type": "markdown",
   "id": "f683aa5c",
   "metadata": {},
   "source": [
    "---"
   ]
  },
  {
   "cell_type": "code",
   "execution_count": 3,
   "id": "f862337b",
   "metadata": {},
   "outputs": [
    {
     "data": {
      "text/html": [
       "<pre style=\"white-space:pre;overflow-x:auto;line-height:normal;font-family:Menlo,'DejaVu Sans Mono',consolas,'Courier New',monospace\">Initialized MLflow to track repo <span style=\"color: #008000; text-decoration-color: #008000\">\"Yosesotomayor/retoCasas_v2\"</span>\n",
       "</pre>\n"
      ],
      "text/plain": [
       "Initialized MLflow to track repo \u001b[32m\"Yosesotomayor/retoCasas_v2\"\u001b[0m\n"
      ]
     },
     "metadata": {},
     "output_type": "display_data"
    },
    {
     "data": {
      "text/html": [
       "<pre style=\"white-space:pre;overflow-x:auto;line-height:normal;font-family:Menlo,'DejaVu Sans Mono',consolas,'Courier New',monospace\">Repository Yosesotomayor/retoCasas_v2 initialized!\n",
       "</pre>\n"
      ],
      "text/plain": [
       "Repository Yosesotomayor/retoCasas_v2 initialized!\n"
      ]
     },
     "metadata": {},
     "output_type": "display_data"
    },
    {
     "name": "stdout",
     "output_type": "stream",
     "text": [
      "Subiendo modelo...\n",
      "Modelo subido.\n"
     ]
    },
    {
     "data": {
      "text/plain": [
       "('runs:/c5d7f7da87664b67ad1595f33557c4cc/model', '3')"
      ]
     },
     "execution_count": 3,
     "metadata": {},
     "output_type": "execute_result"
    }
   ],
   "source": [
    "dagshub.init(repo_owner = \"Yosesotomayor\", repo_name = \"retoCasas_v2\", mlflow=True)\n",
    "\n",
    "model.rmse_std = 0.0\n",
    "metrics = model.get_metrics()\n",
    "\n",
    "joblib.dump(model.elasticnet, \"./model/elasticnet.pkl\")\n",
    "joblib.dump(model.lgbm, \"./model/lgbm.pkl\")\n",
    "\n",
    "quick_log_and_register(\n",
    "    experiment=\"Housing_Competition\",\n",
    "    run_name=\"elnet_lgbm_kaggle\",\n",
    "    model=model,\n",
    "    X=X, y=y,\n",
    "    model_name=MODEL_NAME,\n",
    "    set_challenger=True,\n",
    "    X_test=X_test,\n",
    "    params=model.get_params(),\n",
    "    metrics=model.get_metrics(),\n",
    "    tags={\"model\": \"elnet_lgbm\",\n",
    "          'rmse': model.rmse\n",
    "          },\n",
    "    artifacts = {\n",
    "        \"elnet\": \"./model/elasticnet.pkl\",\n",
    "        \"lgbm\" : \"./model/lgbm.pkl\"\n",
    "    }\n",
    ")"
   ]
  },
  {
   "cell_type": "markdown",
   "id": "4efc663a",
   "metadata": {},
   "source": [
    "---"
   ]
  },
  {
   "cell_type": "code",
   "execution_count": 5,
   "id": "aab72c9f",
   "metadata": {},
   "outputs": [
    {
     "name": "stdout",
     "output_type": "stream",
     "text": [
      "[URIs]\n",
      "Tracking URI : https://dagshub.com/Yosesotomayor/retoCasas_v2.mlflow\n",
      "Registry URI : https://dagshub.com/Yosesotomayor/retoCasas_v2.mlflow\n",
      "MLFLOW_TRACKING_TOKEN: True\n",
      "DAGSHUB_TOKEN        : True\n",
      "MLFLOW_TRACKING_USERNAME: Yosesotomayor\n",
      "\n",
      "[Modelo] elnet_lgbm@challenger -> version=3\n",
      "source           : mlflow-artifacts:/2e5f80440ff845c0b3b48f44c88470bd/c5d7f7da87664b67ad1595f33557c4cc/artifacts/model\n",
      "storage_location : None\n"
     ]
    }
   ],
   "source": [
    "print(\"[URIs]\")\n",
    "print(\"Tracking URI :\", mlflow.get_tracking_uri())\n",
    "print(\"Registry URI :\", mlflow.get_registry_uri())\n",
    "print(\"MLFLOW_TRACKING_TOKEN:\", bool(os.getenv(\"MLFLOW_TRACKING_TOKEN\")))\n",
    "print(\"DAGSHUB_TOKEN        :\", bool(os.getenv(\"DAGSHUB_TOKEN\")))\n",
    "print(\"MLFLOW_TRACKING_USERNAME:\", os.getenv(\"MLFLOW_TRACKING_USERNAME\"))\n",
    "print()\n",
    "\n",
    "client = MlflowClient()\n",
    "\n",
    "mv = client.get_model_version_by_alias(MODEL_NAME, ALIAS)\n",
    "run_id = mv.run_id\n",
    "print(f\"[Modelo] {MODEL_NAME}@{ALIAS} -> version={mv.version}\")\n",
    "print(\"source           :\", mv.source)\n",
    "print(\"storage_location :\", getattr(mv, \"storage_location\", None))"
   ]
  },
  {
   "cell_type": "markdown",
   "id": "4950350e",
   "metadata": {},
   "source": [
    "---"
   ]
  }
 ],
 "metadata": {
  "kernelspec": {
   "display_name": "Reto_housing",
   "language": "python",
   "name": "python3"
  },
  "language_info": {
   "codemirror_mode": {
    "name": "ipython",
    "version": 3
   },
   "file_extension": ".py",
   "mimetype": "text/x-python",
   "name": "python",
   "nbconvert_exporter": "python",
   "pygments_lexer": "ipython3",
   "version": "3.12.11"
  }
 },
 "nbformat": 4,
 "nbformat_minor": 5
}
