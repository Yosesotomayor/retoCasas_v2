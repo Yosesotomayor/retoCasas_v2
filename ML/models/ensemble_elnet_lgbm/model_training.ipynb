{
 "cells": [
  {
   "cell_type": "markdown",
   "id": "66466786",
   "metadata": {},
   "source": [
    "---"
   ]
  },
  {
   "cell_type": "code",
   "execution_count": 14,
   "id": "c6756543",
   "metadata": {},
   "outputs": [
    {
     "name": "stderr",
     "output_type": "stream",
     "text": [
      "INFO:httpx:HTTP Request: GET https://dagshub.com/api/v1/repos/Yosesotomayor/retoCasas_v2 \"HTTP/1.1 200 OK\"\n"
     ]
    },
    {
     "data": {
      "text/html": [
       "<pre style=\"white-space:pre;overflow-x:auto;line-height:normal;font-family:Menlo,'DejaVu Sans Mono',consolas,'Courier New',monospace\">Initialized MLflow to track repo <span style=\"color: #008000; text-decoration-color: #008000\">\"Yosesotomayor/retoCasas_v2\"</span>\n",
       "</pre>\n"
      ],
      "text/plain": [
       "Initialized MLflow to track repo \u001b[32m\"Yosesotomayor/retoCasas_v2\"\u001b[0m\n"
      ]
     },
     "metadata": {},
     "output_type": "display_data"
    },
    {
     "name": "stderr",
     "output_type": "stream",
     "text": [
      "INFO:dagshub:Initialized MLflow to track repo \"Yosesotomayor/retoCasas_v2\"\n"
     ]
    },
    {
     "data": {
      "text/html": [
       "<pre style=\"white-space:pre;overflow-x:auto;line-height:normal;font-family:Menlo,'DejaVu Sans Mono',consolas,'Courier New',monospace\">Repository Yosesotomayor/retoCasas_v2 initialized!\n",
       "</pre>\n"
      ],
      "text/plain": [
       "Repository Yosesotomayor/retoCasas_v2 initialized!\n"
      ]
     },
     "metadata": {},
     "output_type": "display_data"
    },
    {
     "name": "stderr",
     "output_type": "stream",
     "text": [
      "INFO:dagshub:Repository Yosesotomayor/retoCasas_v2 initialized!\n"
     ]
    }
   ],
   "source": [
    "import sys\n",
    "sys.path.append(\"../../../\")\n",
    "from ML.utils.mlflow_flow import set_tracking, quick_log_and_register\n",
    "from ML.utils.utils_yose import load_data, make_features \n",
    "\n",
    "from ensemble import EnsembleModel\n",
    "import numpy as np\n",
    "import pandas as pd\n",
    "\n",
    "import dagshub\n",
    "import mlflow\n",
    "import os\n",
    "\n",
    "from warnings import filterwarnings\n",
    "from dotenv import load_dotenv\n",
    "\n",
    "dagshub.init(repo_owner='Yosesotomayor', repo_name='retoCasas_v2', mlflow=True)\n",
    "\n",
    "load_dotenv()\n",
    "ENDPOINT_URL = os.getenv(\"MLFLOW_TRACKING_URI\")\n",
    "os.getenv(\"MLFLOW_TRACKING_URI\")\n",
    "os.getenv(\"MLFLOW_REGISTRY_URI\")\n",
    "os.getenv(\"DAGSHUB_TOKEN\")\n",
    "\n",
    "os.environ['MLFLOW_TRACKING_TOKEN'] = os.getenv(\"DAGSHUB_TOKEN\")\n",
    "\n",
    "filterwarnings(\"ignore\")\n",
    "set_tracking(ENDPOINT_URL)\n",
    "\n",
    "MODEL_NAME = \"elnet_lgbm\"\n",
    "\n",
    "sub_dir = \"../../../data/housing_data/\"\n",
    "df_train, df_test = load_data(sub_dir = sub_dir)\n",
    "\n",
    "y = np.log1p(df_train[\"SalePrice\"]).astype(float)\n",
    "X = df_train.drop([\"SalePrice\", \"Id\"], axis=1)\n",
    "X = make_features(X)\n",
    "\n",
    "rstate = 42\n",
    "\n",
    "X_test = make_features(df_test.drop([\"Id\"], axis=1))"
   ]
  },
  {
   "cell_type": "markdown",
   "id": "38ba6716",
   "metadata": {},
   "source": [
    "---"
   ]
  },
  {
   "cell_type": "code",
   "execution_count": 15,
   "id": "bdf5416e",
   "metadata": {},
   "outputs": [
    {
     "name": "stdout",
     "output_type": "stream",
     "text": [
      "[LightGBM] [Info] Auto-choosing row-wise multi-threading, the overhead of testing was 0.002301 seconds.\n",
      "You can set `force_row_wise=true` to remove the overhead.\n",
      "And if memory is not enough, you can set `force_col_wise=true`.\n",
      "[LightGBM] [Info] Total Bins 4573\n",
      "[LightGBM] [Info] Number of data points in the train set: 1460, number of used features: 196\n",
      "[LightGBM] [Info] Start training from score 2.566329\n"
     ]
    },
    {
     "data": {
      "text/plain": [
       "<ensemble.EnsembleModel at 0x168c7fdd0>"
      ]
     },
     "execution_count": 15,
     "metadata": {},
     "output_type": "execute_result"
    }
   ],
   "source": [
    "model = EnsembleModel(rstate=rstate)\n",
    "model.fit_full(X, y)"
   ]
  },
  {
   "cell_type": "markdown",
   "id": "f683aa5c",
   "metadata": {},
   "source": [
    "---"
   ]
  },
  {
   "cell_type": "code",
   "execution_count": 28,
   "id": "06e92a4d",
   "metadata": {},
   "outputs": [],
   "source": [
    "model.rmse_std = 0.0\n",
    "metrics = model.get_metrics()"
   ]
  },
  {
   "cell_type": "code",
   "execution_count": 30,
   "id": "f862337b",
   "metadata": {},
   "outputs": [
    {
     "name": "stderr",
     "output_type": "stream",
     "text": [
      "INFO:httpx:HTTP Request: GET https://dagshub.com/api/v1/repos/Yosesotomayor/retoCasas_v2 \"HTTP/1.1 200 OK\"\n"
     ]
    },
    {
     "data": {
      "text/html": [
       "<pre style=\"white-space:pre;overflow-x:auto;line-height:normal;font-family:Menlo,'DejaVu Sans Mono',consolas,'Courier New',monospace\">Initialized MLflow to track repo <span style=\"color: #008000; text-decoration-color: #008000\">\"Yosesotomayor/retoCasas_v2\"</span>\n",
       "</pre>\n"
      ],
      "text/plain": [
       "Initialized MLflow to track repo \u001b[32m\"Yosesotomayor/retoCasas_v2\"\u001b[0m\n"
      ]
     },
     "metadata": {},
     "output_type": "display_data"
    },
    {
     "name": "stderr",
     "output_type": "stream",
     "text": [
      "INFO:dagshub:Initialized MLflow to track repo \"Yosesotomayor/retoCasas_v2\"\n"
     ]
    },
    {
     "data": {
      "text/html": [
       "<pre style=\"white-space:pre;overflow-x:auto;line-height:normal;font-family:Menlo,'DejaVu Sans Mono',consolas,'Courier New',monospace\">Repository Yosesotomayor/retoCasas_v2 initialized!\n",
       "</pre>\n"
      ],
      "text/plain": [
       "Repository Yosesotomayor/retoCasas_v2 initialized!\n"
      ]
     },
     "metadata": {},
     "output_type": "display_data"
    },
    {
     "name": "stderr",
     "output_type": "stream",
     "text": [
      "INFO:dagshub:Repository Yosesotomayor/retoCasas_v2 initialized!\n"
     ]
    },
    {
     "name": "stdout",
     "output_type": "stream",
     "text": [
      "Subiendo modelo...\n"
     ]
    },
    {
     "name": "stderr",
     "output_type": "stream",
     "text": [
      "Registered model 'elnet_lgbm' already exists. Creating a new version of this model...\n",
      "2025/09/02 21:52:48 INFO mlflow.store.model_registry.abstract_store: Waiting up to 300 seconds for model version to finish creation. Model name: elnet_lgbm, version 2\n",
      "Created version '2' of model 'elnet_lgbm'.\n"
     ]
    },
    {
     "name": "stdout",
     "output_type": "stream",
     "text": [
      "Modelo subido.\n"
     ]
    },
    {
     "data": {
      "text/plain": [
       "('runs:/851afcdfca264ff0b1114a9f36d1c41e/model', '2')"
      ]
     },
     "execution_count": 30,
     "metadata": {},
     "output_type": "execute_result"
    }
   ],
   "source": [
    "dagshub.init(repo_owner = \"Yosesotomayor\", repo_name = \"retoCasas_v2\", mlflow=True)\n",
    "\n",
    "quick_log_and_register(\n",
    "    experiment=\"Housing_Competition\",\n",
    "    run_name=\"elnet_lgbm_kaggle\",\n",
    "    model=model,\n",
    "    X=X, y=y,\n",
    "    model_name=MODEL_NAME,\n",
    "    set_challenger=True,\n",
    "    X_test=X_test,\n",
    "    params=model.get_params(),\n",
    "    metrics=model.get_metrics(),\n",
    "    tags={\"model\": \"elnet_lgbm\",\n",
    "          'rmse': model.rmse\n",
    "          }\n",
    ")"
   ]
  },
  {
   "cell_type": "code",
   "execution_count": 31,
   "id": "7c9a1d79",
   "metadata": {},
   "outputs": [
    {
     "name": "stdout",
     "output_type": "stream",
     "text": [
      "mlflow version: 2.22.0\n",
      "tracking: https://dagshub.com/<USER>/<REPO>.mlflow\n",
      "registry: https://dagshub.com/<USER>/<REPO>.mlflow\n",
      "has token: True\n",
      "\n",
      "=== Experimentos ===\n",
      "\n",
      "=== Model Registry ===\n",
      "Registry falla: MlflowException API request to endpoint /api/2.0/mlflow/registered-models/search failed with error code 404 != 200. Response body: ''\n",
      "\n",
      "Carga por runs:/ falla: MlflowException API request to endpoint /api/2.0/mlflow/runs/get failed with error code 404 != 200. Response body: ''\n"
     ]
    }
   ],
   "source": [
    "import os, mlflow\n",
    "from mlflow.tracking import MlflowClient\n",
    "\n",
    "URI = \"https://dagshub.com/<USER>/<REPO>.mlflow\"  # <-- pon tu repo correcto\n",
    "\n",
    "os.environ[\"MLFLOW_TRACKING_URI\"] = URI\n",
    "mlflow.set_tracking_uri(URI)\n",
    "try:\n",
    "    mlflow.set_registry_uri(URI)\n",
    "except Exception:\n",
    "    pass\n",
    "\n",
    "print(\"mlflow version:\", mlflow.__version__)\n",
    "print(\"tracking:\", mlflow.get_tracking_uri())\n",
    "print(\"registry:\", mlflow.get_registry_uri())\n",
    "print(\"has token:\", bool(os.environ.get(\"DAGSHUB_TOKEN\") or os.environ.get(\"MLFLOW_TRACKING_TOKEN\")))\n",
    "\n",
    "# 1) Experimentos (API alto nivel)\n",
    "print(\"\\n=== Experimentos ===\")\n",
    "\n",
    "# 2) Registry (API client)\n",
    "client = MlflowClient()\n",
    "print(\"\\n=== Model Registry ===\")\n",
    "try:\n",
    "    rms = client.search_registered_models(max_results=5)\n",
    "    print(\"OK, models:\", [m.name for m in rms])\n",
    "except Exception as e:\n",
    "    print(\"Registry falla:\", type(e).__name__, str(e)[:200])\n",
    "\n",
    "# 3) Carga directa por runs (descarta problemas de Registry)\n",
    "try:\n",
    "    m = mlflow.pyfunc.load_model(\"runs:/ceb1d62c3a24458296732a6d57a1d48f/model\")\n",
    "    print(\"\\nCarga por runs:/ --> OK\")\n",
    "except Exception as e:\n",
    "    print(\"\\nCarga por runs:/ falla:\", type(e).__name__, str(e)[:200])"
   ]
  },
  {
   "cell_type": "markdown",
   "id": "4efc663a",
   "metadata": {},
   "source": [
    "---"
   ]
  },
  {
   "cell_type": "code",
   "execution_count": null,
   "id": "eb675be4",
   "metadata": {},
   "outputs": [
    {
     "ename": "MlflowException",
     "evalue": "API request to endpoint /api/2.0/mlflow/registered-models/alias failed with error code 404 != 200. Response body: ''",
     "output_type": "error",
     "traceback": [
      "\u001b[31m---------------------------------------------------------------------------\u001b[39m",
      "\u001b[31mMlflowException\u001b[39m                           Traceback (most recent call last)",
      "\u001b[36mCell\u001b[39m\u001b[36m \u001b[39m\u001b[32mIn[10]\u001b[39m\u001b[32m, line 1\u001b[39m\n\u001b[32m----> \u001b[39m\u001b[32m1\u001b[39m model_r = \u001b[43mmlflow\u001b[49m\u001b[43m.\u001b[49m\u001b[43mpyfunc\u001b[49m\u001b[43m.\u001b[49m\u001b[43mload_model\u001b[49m\u001b[43m(\u001b[49m\u001b[33;43mf\u001b[39;49m\u001b[33;43m\"\u001b[39;49m\u001b[33;43mmodels:/\u001b[39;49m\u001b[38;5;132;43;01m{\u001b[39;49;00m\u001b[43mMODEL_NAME\u001b[49m\u001b[38;5;132;43;01m}\u001b[39;49;00m\u001b[33;43m@challenger\u001b[39;49m\u001b[33;43m\"\u001b[39;49m\u001b[43m)\u001b[49m\n\u001b[32m      2\u001b[39m preds_orig = model_r.predict(X_test)\n\u001b[32m      5\u001b[39m sub_dir = \u001b[33m\"\u001b[39m\u001b[33m../../../data/housing_submissions/elnet_lgbm2-kaggle\u001b[39m\u001b[33m\"\u001b[39m\n",
      "\u001b[36mFile \u001b[39m\u001b[32m/opt/miniconda3/envs/Reto_housing/lib/python3.12/site-packages/mlflow/tracing/provider.py:422\u001b[39m, in \u001b[36mtrace_disabled.<locals>.wrapper\u001b[39m\u001b[34m(*args, **kwargs)\u001b[39m\n\u001b[32m    420\u001b[39m disable()\n\u001b[32m    421\u001b[39m \u001b[38;5;28;01mtry\u001b[39;00m:\n\u001b[32m--> \u001b[39m\u001b[32m422\u001b[39m     is_func_called, result = \u001b[38;5;28;01mTrue\u001b[39;00m, \u001b[43mf\u001b[49m\u001b[43m(\u001b[49m\u001b[43m*\u001b[49m\u001b[43margs\u001b[49m\u001b[43m,\u001b[49m\u001b[43m \u001b[49m\u001b[43m*\u001b[49m\u001b[43m*\u001b[49m\u001b[43mkwargs\u001b[49m\u001b[43m)\u001b[49m\n\u001b[32m    423\u001b[39m \u001b[38;5;28;01mfinally\u001b[39;00m:\n\u001b[32m    424\u001b[39m     enable()\n",
      "\u001b[36mFile \u001b[39m\u001b[32m/opt/miniconda3/envs/Reto_housing/lib/python3.12/site-packages/mlflow/pyfunc/__init__.py:1099\u001b[39m, in \u001b[36mload_model\u001b[39m\u001b[34m(model_uri, suppress_warnings, dst_path, model_config)\u001b[39m\n\u001b[32m   1095\u001b[39m         entity_list.append(Entity(job=job_entity))\n\u001b[32m   1097\u001b[39m     lineage_header_info = LineageHeaderInfo(entities=entity_list) \u001b[38;5;28;01mif\u001b[39;00m entity_list \u001b[38;5;28;01melse\u001b[39;00m \u001b[38;5;28;01mNone\u001b[39;00m\n\u001b[32m-> \u001b[39m\u001b[32m1099\u001b[39m local_path = \u001b[43m_download_artifact_from_uri\u001b[49m\u001b[43m(\u001b[49m\n\u001b[32m   1100\u001b[39m \u001b[43m    \u001b[49m\u001b[43martifact_uri\u001b[49m\u001b[43m=\u001b[49m\u001b[43mmodel_uri\u001b[49m\u001b[43m,\u001b[49m\u001b[43m \u001b[49m\u001b[43moutput_path\u001b[49m\u001b[43m=\u001b[49m\u001b[43mdst_path\u001b[49m\u001b[43m,\u001b[49m\u001b[43m \u001b[49m\u001b[43mlineage_header_info\u001b[49m\u001b[43m=\u001b[49m\u001b[43mlineage_header_info\u001b[49m\n\u001b[32m   1101\u001b[39m \u001b[43m\u001b[49m\u001b[43m)\u001b[49m\n\u001b[32m   1103\u001b[39m \u001b[38;5;28;01mif\u001b[39;00m \u001b[38;5;129;01mnot\u001b[39;00m suppress_warnings:\n\u001b[32m   1104\u001b[39m     model_requirements = _get_pip_requirements_from_model_path(local_path)\n",
      "\u001b[36mFile \u001b[39m\u001b[32m/opt/miniconda3/envs/Reto_housing/lib/python3.12/site-packages/mlflow/tracking/artifact_utils.py:108\u001b[39m, in \u001b[36m_download_artifact_from_uri\u001b[39m\u001b[34m(artifact_uri, output_path, lineage_header_info)\u001b[39m\n\u001b[32m    100\u001b[39m \u001b[38;5;250m\u001b[39m\u001b[33;03m\"\"\"\u001b[39;00m\n\u001b[32m    101\u001b[39m \u001b[33;03mArgs:\u001b[39;00m\n\u001b[32m    102\u001b[39m \u001b[33;03m    artifact_uri: The *absolute* URI of the artifact to download.\u001b[39;00m\n\u001b[32m   (...)\u001b[39m\u001b[32m    105\u001b[39m \u001b[33;03m    lineage_header_info: The model lineage header info to be consumed by lineage services.\u001b[39;00m\n\u001b[32m    106\u001b[39m \u001b[33;03m\"\"\"\u001b[39;00m\n\u001b[32m    107\u001b[39m root_uri, artifact_path = _get_root_uri_and_artifact_path(artifact_uri)\n\u001b[32m--> \u001b[39m\u001b[32m108\u001b[39m repo = \u001b[43mget_artifact_repository\u001b[49m\u001b[43m(\u001b[49m\u001b[43martifact_uri\u001b[49m\u001b[43m=\u001b[49m\u001b[43mroot_uri\u001b[49m\u001b[43m)\u001b[49m\n\u001b[32m    110\u001b[39m \u001b[38;5;28;01mif\u001b[39;00m \u001b[38;5;28misinstance\u001b[39m(repo, ModelsArtifactRepository):\n\u001b[32m    111\u001b[39m     \u001b[38;5;28;01mreturn\u001b[39;00m repo.download_artifacts(\n\u001b[32m    112\u001b[39m         artifact_path=artifact_path,\n\u001b[32m    113\u001b[39m         dst_path=output_path,\n\u001b[32m    114\u001b[39m         lineage_header_info=lineage_header_info,\n\u001b[32m    115\u001b[39m     )\n",
      "\u001b[36mFile \u001b[39m\u001b[32m/opt/miniconda3/envs/Reto_housing/lib/python3.12/site-packages/mlflow/store/artifact/artifact_repository_registry.py:133\u001b[39m, in \u001b[36mget_artifact_repository\u001b[39m\u001b[34m(artifact_uri)\u001b[39m\n\u001b[32m    120\u001b[39m \u001b[38;5;28;01mdef\u001b[39;00m\u001b[38;5;250m \u001b[39m\u001b[34mget_artifact_repository\u001b[39m(artifact_uri: \u001b[38;5;28mstr\u001b[39m) -> ArtifactRepository:\n\u001b[32m    121\u001b[39m \u001b[38;5;250m    \u001b[39m\u001b[33;03m\"\"\"\u001b[39;00m\n\u001b[32m    122\u001b[39m \u001b[33;03m    Get an artifact repository from the registry based on the scheme of artifact_uri\u001b[39;00m\n\u001b[32m    123\u001b[39m \n\u001b[32m   (...)\u001b[39m\u001b[32m    131\u001b[39m \u001b[33;03m        requirements.\u001b[39;00m\n\u001b[32m    132\u001b[39m \u001b[33;03m    \"\"\"\u001b[39;00m\n\u001b[32m--> \u001b[39m\u001b[32m133\u001b[39m     \u001b[38;5;28;01mreturn\u001b[39;00m \u001b[43m_artifact_repository_registry\u001b[49m\u001b[43m.\u001b[49m\u001b[43mget_artifact_repository\u001b[49m\u001b[43m(\u001b[49m\u001b[43martifact_uri\u001b[49m\u001b[43m)\u001b[49m\n",
      "\u001b[36mFile \u001b[39m\u001b[32m/opt/miniconda3/envs/Reto_housing/lib/python3.12/site-packages/mlflow/store/artifact/artifact_repository_registry.py:77\u001b[39m, in \u001b[36mArtifactRepositoryRegistry.get_artifact_repository\u001b[39m\u001b[34m(self, artifact_uri)\u001b[39m\n\u001b[32m     72\u001b[39m \u001b[38;5;28;01mif\u001b[39;00m repository \u001b[38;5;129;01mis\u001b[39;00m \u001b[38;5;28;01mNone\u001b[39;00m:\n\u001b[32m     73\u001b[39m     \u001b[38;5;28;01mraise\u001b[39;00m MlflowException(\n\u001b[32m     74\u001b[39m         \u001b[33mf\u001b[39m\u001b[33m\"\u001b[39m\u001b[33mCould not find a registered artifact repository for: \u001b[39m\u001b[38;5;132;01m{\u001b[39;00martifact_uri\u001b[38;5;132;01m}\u001b[39;00m\u001b[33m. \u001b[39m\u001b[33m\"\u001b[39m\n\u001b[32m     75\u001b[39m         \u001b[33mf\u001b[39m\u001b[33m\"\u001b[39m\u001b[33mCurrently registered schemes are: \u001b[39m\u001b[38;5;132;01m{\u001b[39;00m\u001b[38;5;28mlist\u001b[39m(\u001b[38;5;28mself\u001b[39m._registry.keys())\u001b[38;5;132;01m}\u001b[39;00m\u001b[33m\"\u001b[39m\n\u001b[32m     76\u001b[39m     )\n\u001b[32m---> \u001b[39m\u001b[32m77\u001b[39m \u001b[38;5;28;01mreturn\u001b[39;00m \u001b[43mrepository\u001b[49m\u001b[43m(\u001b[49m\u001b[43martifact_uri\u001b[49m\u001b[43m)\u001b[49m\n",
      "\u001b[36mFile \u001b[39m\u001b[32m/opt/miniconda3/envs/Reto_housing/lib/python3.12/site-packages/mlflow/store/artifact/models_artifact_repo.py:69\u001b[39m, in \u001b[36mModelsArtifactRepository.__init__\u001b[39m\u001b[34m(self, artifact_uri)\u001b[39m\n\u001b[32m     63\u001b[39m     \u001b[38;5;28mself\u001b[39m.model_version = \u001b[38;5;28mself\u001b[39m.repo.model_version\n\u001b[32m     64\u001b[39m \u001b[38;5;28;01melse\u001b[39;00m:\n\u001b[32m     65\u001b[39m     (\n\u001b[32m     66\u001b[39m         \u001b[38;5;28mself\u001b[39m.model_name,\n\u001b[32m     67\u001b[39m         \u001b[38;5;28mself\u001b[39m.model_version,\n\u001b[32m     68\u001b[39m         underlying_uri,\n\u001b[32m---> \u001b[39m\u001b[32m69\u001b[39m     ) = \u001b[43mModelsArtifactRepository\u001b[49m\u001b[43m.\u001b[49m\u001b[43m_get_model_uri_infos\u001b[49m\u001b[43m(\u001b[49m\u001b[43martifact_uri\u001b[49m\u001b[43m)\u001b[49m\n\u001b[32m     70\u001b[39m     \u001b[38;5;28mself\u001b[39m.repo = get_artifact_repository(underlying_uri)\n",
      "\u001b[36mFile \u001b[39m\u001b[32m/opt/miniconda3/envs/Reto_housing/lib/python3.12/site-packages/mlflow/store/artifact/models_artifact_repo.py:112\u001b[39m, in \u001b[36mModelsArtifactRepository._get_model_uri_infos\u001b[39m\u001b[34m(uri)\u001b[39m\n\u001b[32m    108\u001b[39m databricks_profile_uri = (\n\u001b[32m    109\u001b[39m     get_databricks_profile_uri_from_artifact_uri(uri) \u001b[38;5;129;01mor\u001b[39;00m mlflow.get_registry_uri()\n\u001b[32m    110\u001b[39m )\n\u001b[32m    111\u001b[39m client = MlflowClient(registry_uri=databricks_profile_uri)\n\u001b[32m--> \u001b[39m\u001b[32m112\u001b[39m name, version = \u001b[43mget_model_name_and_version\u001b[49m\u001b[43m(\u001b[49m\u001b[43mclient\u001b[49m\u001b[43m,\u001b[49m\u001b[43m \u001b[49m\u001b[43muri\u001b[49m\u001b[43m)\u001b[49m\n\u001b[32m    113\u001b[39m download_uri = client.get_model_version_download_uri(name, version)\n\u001b[32m    115\u001b[39m \u001b[38;5;28;01mreturn\u001b[39;00m (\n\u001b[32m    116\u001b[39m     name,\n\u001b[32m    117\u001b[39m     version,\n\u001b[32m    118\u001b[39m     add_databricks_profile_info_to_artifact_uri(download_uri, databricks_profile_uri),\n\u001b[32m    119\u001b[39m )\n",
      "\u001b[36mFile \u001b[39m\u001b[32m/opt/miniconda3/envs/Reto_housing/lib/python3.12/site-packages/mlflow/store/artifact/utils/models.py:97\u001b[39m, in \u001b[36mget_model_name_and_version\u001b[39m\u001b[34m(client, models_uri)\u001b[39m\n\u001b[32m     94\u001b[39m     client = client._get_registry_client()\n\u001b[32m     96\u001b[39m \u001b[38;5;28;01mif\u001b[39;00m model_alias \u001b[38;5;129;01mis\u001b[39;00m \u001b[38;5;129;01mnot\u001b[39;00m \u001b[38;5;28;01mNone\u001b[39;00m:\n\u001b[32m---> \u001b[39m\u001b[32m97\u001b[39m     mv = \u001b[43mclient\u001b[49m\u001b[43m.\u001b[49m\u001b[43mget_model_version_by_alias\u001b[49m\u001b[43m(\u001b[49m\u001b[43mmodel_name\u001b[49m\u001b[43m,\u001b[49m\u001b[43m \u001b[49m\u001b[43mmodel_alias\u001b[49m\u001b[43m)\u001b[49m\n\u001b[32m     98\u001b[39m     \u001b[38;5;28;01mreturn\u001b[39;00m model_name, mv.version\n\u001b[32m     99\u001b[39m \u001b[38;5;28;01mreturn\u001b[39;00m model_name, \u001b[38;5;28mstr\u001b[39m(_get_latest_model_version(client, model_name, model_stage))\n",
      "\u001b[36mFile \u001b[39m\u001b[32m/opt/miniconda3/envs/Reto_housing/lib/python3.12/site-packages/mlflow/tracking/_model_registry/client.py:433\u001b[39m, in \u001b[36mModelRegistryClient.get_model_version_by_alias\u001b[39m\u001b[34m(self, name, alias)\u001b[39m\n\u001b[32m    422\u001b[39m \u001b[38;5;28;01mdef\u001b[39;00m\u001b[38;5;250m \u001b[39m\u001b[34mget_model_version_by_alias\u001b[39m(\u001b[38;5;28mself\u001b[39m, name, alias):\n\u001b[32m    423\u001b[39m \u001b[38;5;250m    \u001b[39m\u001b[33;03m\"\"\"Get the model version instance by name and alias.\u001b[39;00m\n\u001b[32m    424\u001b[39m \n\u001b[32m    425\u001b[39m \u001b[33;03m    Args:\u001b[39;00m\n\u001b[32m   (...)\u001b[39m\u001b[32m    431\u001b[39m \n\u001b[32m    432\u001b[39m \u001b[33;03m    \"\"\"\u001b[39;00m\n\u001b[32m--> \u001b[39m\u001b[32m433\u001b[39m     \u001b[38;5;28;01mreturn\u001b[39;00m \u001b[38;5;28;43mself\u001b[39;49m\u001b[43m.\u001b[49m\u001b[43mstore\u001b[49m\u001b[43m.\u001b[49m\u001b[43mget_model_version_by_alias\u001b[49m\u001b[43m(\u001b[49m\u001b[43mname\u001b[49m\u001b[43m,\u001b[49m\u001b[43m \u001b[49m\u001b[43malias\u001b[49m\u001b[43m)\u001b[49m\n",
      "\u001b[36mFile \u001b[39m\u001b[32m/opt/miniconda3/envs/Reto_housing/lib/python3.12/site-packages/mlflow/store/model_registry/rest_store.py:473\u001b[39m, in \u001b[36mRestStore.get_model_version_by_alias\u001b[39m\u001b[34m(self, name, alias)\u001b[39m\n\u001b[32m    462\u001b[39m \u001b[38;5;250m\u001b[39m\u001b[33;03m\"\"\"\u001b[39;00m\n\u001b[32m    463\u001b[39m \u001b[33;03mGet the model version instance by name and alias.\u001b[39;00m\n\u001b[32m    464\u001b[39m \n\u001b[32m   (...)\u001b[39m\u001b[32m    470\u001b[39m \u001b[33;03m    A single :py:class:`mlflow.entities.model_registry.ModelVersion` object.\u001b[39;00m\n\u001b[32m    471\u001b[39m \u001b[33;03m\"\"\"\u001b[39;00m\n\u001b[32m    472\u001b[39m req_body = message_to_json(GetModelVersionByAlias(name=name, alias=alias))\n\u001b[32m--> \u001b[39m\u001b[32m473\u001b[39m response_proto = \u001b[38;5;28;43mself\u001b[39;49m\u001b[43m.\u001b[49m\u001b[43m_call_endpoint\u001b[49m\u001b[43m(\u001b[49m\u001b[43mGetModelVersionByAlias\u001b[49m\u001b[43m,\u001b[49m\u001b[43m \u001b[49m\u001b[43mreq_body\u001b[49m\u001b[43m)\u001b[49m\n\u001b[32m    474\u001b[39m \u001b[38;5;28;01mreturn\u001b[39;00m ModelVersion.from_proto(response_proto.model_version)\n",
      "\u001b[36mFile \u001b[39m\u001b[32m/opt/miniconda3/envs/Reto_housing/lib/python3.12/site-packages/mlflow/store/model_registry/base_rest_store.py:44\u001b[39m, in \u001b[36mBaseRestStore._call_endpoint\u001b[39m\u001b[34m(self, api, json_body, call_all_endpoints, extra_headers)\u001b[39m\n\u001b[32m     42\u001b[39m \u001b[38;5;28;01melse\u001b[39;00m:\n\u001b[32m     43\u001b[39m     endpoint, method = \u001b[38;5;28mself\u001b[39m._get_endpoint_from_method(api)\n\u001b[32m---> \u001b[39m\u001b[32m44\u001b[39m     \u001b[38;5;28;01mreturn\u001b[39;00m \u001b[43mcall_endpoint\u001b[49m\u001b[43m(\u001b[49m\n\u001b[32m     45\u001b[39m \u001b[43m        \u001b[49m\u001b[38;5;28;43mself\u001b[39;49m\u001b[43m.\u001b[49m\u001b[43mget_host_creds\u001b[49m\u001b[43m(\u001b[49m\u001b[43m)\u001b[49m\u001b[43m,\u001b[49m\u001b[43m \u001b[49m\u001b[43mendpoint\u001b[49m\u001b[43m,\u001b[49m\u001b[43m \u001b[49m\u001b[43mmethod\u001b[49m\u001b[43m,\u001b[49m\u001b[43m \u001b[49m\u001b[43mjson_body\u001b[49m\u001b[43m,\u001b[49m\u001b[43m \u001b[49m\u001b[43mresponse_proto\u001b[49m\u001b[43m,\u001b[49m\u001b[43m \u001b[49m\u001b[43mextra_headers\u001b[49m\n\u001b[32m     46\u001b[39m \u001b[43m    \u001b[49m\u001b[43m)\u001b[49m\n",
      "\u001b[36mFile \u001b[39m\u001b[32m/opt/miniconda3/envs/Reto_housing/lib/python3.12/site-packages/mlflow/utils/rest_utils.py:402\u001b[39m, in \u001b[36mcall_endpoint\u001b[39m\u001b[34m(host_creds, endpoint, method, json_body, response_proto, extra_headers)\u001b[39m\n\u001b[32m    399\u001b[39m     call_kwargs[\u001b[33m\"\u001b[39m\u001b[33mjson\u001b[39m\u001b[33m\"\u001b[39m] = json_body\n\u001b[32m    400\u001b[39m     response = http_request(**call_kwargs)\n\u001b[32m--> \u001b[39m\u001b[32m402\u001b[39m response = \u001b[43mverify_rest_response\u001b[49m\u001b[43m(\u001b[49m\u001b[43mresponse\u001b[49m\u001b[43m,\u001b[49m\u001b[43m \u001b[49m\u001b[43mendpoint\u001b[49m\u001b[43m)\u001b[49m\n\u001b[32m    403\u001b[39m response_to_parse = response.text\n\u001b[32m    404\u001b[39m js_dict = json.loads(response_to_parse)\n",
      "\u001b[36mFile \u001b[39m\u001b[32m/opt/miniconda3/envs/Reto_housing/lib/python3.12/site-packages/mlflow/utils/rest_utils.py:265\u001b[39m, in \u001b[36mverify_rest_response\u001b[39m\u001b[34m(response, endpoint)\u001b[39m\n\u001b[32m    260\u001b[39m     \u001b[38;5;28;01melse\u001b[39;00m:\n\u001b[32m    261\u001b[39m         base_msg = (\n\u001b[32m    262\u001b[39m             \u001b[33mf\u001b[39m\u001b[33m\"\u001b[39m\u001b[33mAPI request to endpoint \u001b[39m\u001b[38;5;132;01m{\u001b[39;00mendpoint\u001b[38;5;132;01m}\u001b[39;00m\u001b[33m \u001b[39m\u001b[33m\"\u001b[39m\n\u001b[32m    263\u001b[39m             \u001b[33mf\u001b[39m\u001b[33m\"\u001b[39m\u001b[33mfailed with error code \u001b[39m\u001b[38;5;132;01m{\u001b[39;00mresponse.status_code\u001b[38;5;132;01m}\u001b[39;00m\u001b[33m != 200\u001b[39m\u001b[33m\"\u001b[39m\n\u001b[32m    264\u001b[39m         )\n\u001b[32m--> \u001b[39m\u001b[32m265\u001b[39m         \u001b[38;5;28;01mraise\u001b[39;00m MlflowException(\n\u001b[32m    266\u001b[39m             \u001b[33mf\u001b[39m\u001b[33m\"\u001b[39m\u001b[38;5;132;01m{\u001b[39;00mbase_msg\u001b[38;5;132;01m}\u001b[39;00m\u001b[33m. Response body: \u001b[39m\u001b[33m'\u001b[39m\u001b[38;5;132;01m{\u001b[39;00mresponse.text\u001b[38;5;132;01m}\u001b[39;00m\u001b[33m'\u001b[39m\u001b[33m\"\u001b[39m,\n\u001b[32m    267\u001b[39m             error_code=get_error_code(response.status_code),\n\u001b[32m    268\u001b[39m         )\n\u001b[32m    270\u001b[39m \u001b[38;5;66;03m# Skip validation for endpoints (e.g. DBFS file-download API) which may return a non-JSON\u001b[39;00m\n\u001b[32m    271\u001b[39m \u001b[38;5;66;03m# response\u001b[39;00m\n\u001b[32m    272\u001b[39m \u001b[38;5;28;01mif\u001b[39;00m endpoint.startswith(_REST_API_PATH_PREFIX) \u001b[38;5;129;01mand\u001b[39;00m \u001b[38;5;129;01mnot\u001b[39;00m _can_parse_as_json_object(response.text):\n",
      "\u001b[31mMlflowException\u001b[39m: API request to endpoint /api/2.0/mlflow/registered-models/alias failed with error code 404 != 200. Response body: ''"
     ]
    }
   ],
   "source": [
    "model_r = mlflow.pyfunc.load_model(\"models://model\")\n",
    "#model_r = mlflow.pyfunc.load_model(f\"models:/{MODEL_NAME}@challenger\")\n",
    "preds_orig = model_r.predict(X_test)\n",
    "\n",
    "\n",
    "sub_dir = \"../../../data/housing_submissions/elnet_lgbm2-kaggle\"\n",
    "os.makedirs(sub_dir, exist_ok=True)\n",
    "submission_path = os.path.join(sub_dir, \"submission_elnet_lgbm-kaggle.csv\")\n",
    "\n",
    "\n",
    "df_sub = pd.DataFrame({\"Id\": df_test[\"Id\"], \"SalePrice\": preds_orig})\n",
    "df_sub.to_csv(submission_path, index=False)"
   ]
  },
  {
   "cell_type": "markdown",
   "id": "4950350e",
   "metadata": {},
   "source": [
    "---"
   ]
  }
 ],
 "metadata": {
  "kernelspec": {
   "display_name": "Reto_housing",
   "language": "python",
   "name": "python3"
  },
  "language_info": {
   "codemirror_mode": {
    "name": "ipython",
    "version": 3
   },
   "file_extension": ".py",
   "mimetype": "text/x-python",
   "name": "python",
   "nbconvert_exporter": "python",
   "pygments_lexer": "ipython3",
   "version": "3.12.11"
  }
 },
 "nbformat": 4,
 "nbformat_minor": 5
}
