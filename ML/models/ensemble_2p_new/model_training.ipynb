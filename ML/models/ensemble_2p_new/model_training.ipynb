{
 "cells": [
  {
   "cell_type": "code",
   "execution_count": 1,
   "id": "c6756543",
   "metadata": {},
   "outputs": [],
   "source": [
    "import sys\n",
    "sys.path.append(\"../../../\")\n",
    "from ML.utils.mlflow_flow import set_tracking, quick_log_and_register\n",
    "from ML.utils.utils_yose import load_data, make_features\n",
    "\n",
    "from ensemble import EnsembleModel\n",
    "import numpy as np\n",
    "import pandas as pd\n",
    "\n",
    "\n",
    "import mlflow\n",
    "import os\n",
    "\n",
    "from warnings import filterwarnings\n",
    "\n",
    "filterwarnings(\"ignore\")\n",
    "set_tracking(\"http://127.0.0.1:5000\")\n",
    "\n",
    "MODEL_NAME = \"elnet_lgbm\""
   ]
  },
  {
   "cell_type": "code",
   "execution_count": 3,
   "id": "581b3d6f",
   "metadata": {},
   "outputs": [],
   "source": [
    "df_train, df_test = load_data()\n",
    "\n",
    "y = np.log1p(df_train[\"SalePrice\"]).astype(float)\n",
    "X = df_train.drop([\"SalePrice\", \"Id\"], axis=1)\n",
    "X = make_features(X)\n",
    "\n",
    "rstate = 42\n",
    "\n",
    "X_test = make_features(df_test.drop([\"Id\"], axis=1))"
   ]
  },
  {
   "cell_type": "code",
   "execution_count": 3,
   "id": "bdf5416e",
   "metadata": {},
   "outputs": [
    {
     "name": "stdout",
     "output_type": "stream",
     "text": [
      "[LightGBM] [Info] Auto-choosing row-wise multi-threading, the overhead of testing was 0.002225 seconds.\n",
      "You can set `force_row_wise=true` to remove the overhead.\n",
      "And if memory is not enough, you can set `force_col_wise=true`.\n",
      "[LightGBM] [Info] Total Bins 4472\n",
      "[LightGBM] [Info] Number of data points in the train set: 1314, number of used features: 191\n",
      "[LightGBM] [Info] Start training from score 12.022444\n",
      "CV RMSE mean: 0.0768\n",
      "CV RMSE std: 0.0000\n",
      "CV R2 mean: 0.9549\n",
      "[LightGBM] [Info] Auto-choosing row-wise multi-threading, the overhead of testing was 0.002670 seconds.\n",
      "You can set `force_row_wise=true` to remove the overhead.\n",
      "And if memory is not enough, you can set `force_col_wise=true`.\n",
      "[LightGBM] [Info] Total Bins 4573\n",
      "[LightGBM] [Info] Number of data points in the train set: 1460, number of used features: 196\n",
      "[LightGBM] [Info] Start training from score 12.024057\n"
     ]
    },
    {
     "data": {
      "text/plain": [
       "<ensemble.EnsembleModel at 0x11a8314c0>"
      ]
     },
     "execution_count": 3,
     "metadata": {},
     "output_type": "execute_result"
    }
   ],
   "source": [
    "model = EnsembleModel(rstate=rstate)\n",
    "model.fit(X, y)"
   ]
  },
  {
   "cell_type": "code",
   "execution_count": 4,
   "id": "f862337b",
   "metadata": {},
   "outputs": [
    {
     "name": "stdout",
     "output_type": "stream",
     "text": [
      "Subiendo modelo...\n",
      "Modelo subido.\n"
     ]
    },
    {
     "data": {
      "text/plain": [
       "('runs:/150d9a52a5e9465c93f2c5f2afc3f824/model', '1')"
      ]
     },
     "execution_count": 4,
     "metadata": {},
     "output_type": "execute_result"
    }
   ],
   "source": [
    "quick_log_and_register(\n",
    "    experiment=\"elnet_lgbm\",\n",
    "    run_name=\"elnet_lgbm\",\n",
    "    model=model,\n",
    "    X=X, y=y,\n",
    "    model_name=MODEL_NAME,\n",
    "    set_challenger=True,\n",
    "    X_test=X_test,\n",
    "    params=model.get_params(),\n",
    "    metrics={\"r2\": model.score(X, y), \"rmse\": np.sqrt(model.score(X, y))},\n",
    ")"
   ]
  },
  {
   "cell_type": "code",
   "execution_count": 4,
   "id": "eb675be4",
   "metadata": {},
   "outputs": [],
   "source": [
    "model = mlflow.pyfunc.load_model(f\"models:/{MODEL_NAME}@challenger\")\n",
    "preds_orig = model.predict(X_test)\n",
    "\n",
    "\n",
    "sub_dir = \"../../../data/housing_submissions/elnet_lgbm2\"\n",
    "os.makedirs(sub_dir, exist_ok=True)\n",
    "submission_path = os.path.join(sub_dir, \"submission_elnet_lgbm2.csv\")\n",
    "\n",
    "\n",
    "df_sub = pd.DataFrame({\"Id\": df_test[\"Id\"], \"SalePrice\": preds_orig})\n",
    "df_sub.to_csv(submission_path, index=False)"
   ]
  },
  {
   "cell_type": "code",
   "execution_count": null,
   "id": "242b10bc",
   "metadata": {},
   "outputs": [],
   "source": []
  }
 ],
 "metadata": {
  "kernelspec": {
   "display_name": "Reto_housing",
   "language": "python",
   "name": "python3"
  },
  "language_info": {
   "codemirror_mode": {
    "name": "ipython",
    "version": 3
   },
   "file_extension": ".py",
   "mimetype": "text/x-python",
   "name": "python",
   "nbconvert_exporter": "python",
   "pygments_lexer": "ipython3",
   "version": "3.12.11"
  }
 },
 "nbformat": 4,
 "nbformat_minor": 5
}
