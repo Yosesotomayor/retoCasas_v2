{
 "cells": [
  {
   "cell_type": "code",
   "execution_count": 43,
   "id": "d06ba5c6",
   "metadata": {},
   "outputs": [],
   "source": [
    "import json, joblib, os, sys, numpy as np\n",
    "sys.path.append(\"../\")\n",
    "from utils.utils_yose import make_features, load_data"
   ]
  },
  {
   "cell_type": "code",
   "execution_count": 44,
   "id": "18709d73",
   "metadata": {},
   "outputs": [
    {
     "name": "stdout",
     "output_type": "stream",
     "text": [
      "elasticnet.pkl\n",
      "weights.json\n",
      "lgbm.pkl\n"
     ]
    },
    {
     "name": "stderr",
     "output_type": "stream",
     "text": [
      "/opt/miniconda3/envs/Reto_housing/lib/python3.12/site-packages/sklearn/utils/validation.py:2749: UserWarning: X does not have valid feature names, but LGBMRegressor was fitted with feature names\n",
      "  warnings.warn(\n"
     ]
    },
    {
     "data": {
      "text/plain": [
       "array([117013.57857004])"
      ]
     },
     "execution_count": 44,
     "metadata": {},
     "output_type": "execute_result"
    }
   ],
   "source": [
    "df_train, df_test = load_data(\"../data/housing_data/\")\n",
    "with open(\"models/weights.json\", \"r\") as f:\n",
    "        weights = json.load(f)\n",
    "        models = []\n",
    "        models_names = []\n",
    "        for root, dirs, files in os.walk(\"models\"):\n",
    "            for file in files:\n",
    "                    print(file)\n",
    "                    if file.endswith(\".pkl\"):\n",
    "                        models_names.append(file)\n",
    "            for model in models_names:    \n",
    "                with open(f\"models/{model}\", \"rb\") as f:\n",
    "                    models.append(joblib.load(f))\n",
    "model_lgbm = models[1]\n",
    "model_elnet = models[0]\n",
    "weights_lgbm = weights[\"lgbm\"]\n",
    "weights_elnet = weights[\"elasticnet\"]\n",
    "X = make_features(df_test.iloc[[0]])\n",
    "p1 = model_elnet.predict(X)\n",
    "p2 = model_lgbm.predict(X)\n",
    "pred = np.expm1(weights_elnet * p1 + weights_lgbm * p2)\n",
    "pred"
   ]
  },
  {
   "cell_type": "code",
   "execution_count": null,
   "id": "605d6b06",
   "metadata": {},
   "outputs": [],
   "source": []
  }
 ],
 "metadata": {
  "kernelspec": {
   "display_name": "Reto_housing",
   "language": "python",
   "name": "python3"
  },
  "language_info": {
   "codemirror_mode": {
    "name": "ipython",
    "version": 3
   },
   "file_extension": ".py",
   "mimetype": "text/x-python",
   "name": "python",
   "nbconvert_exporter": "python",
   "pygments_lexer": "ipython3",
   "version": "3.12.11"
  }
 },
 "nbformat": 4,
 "nbformat_minor": 5
}
